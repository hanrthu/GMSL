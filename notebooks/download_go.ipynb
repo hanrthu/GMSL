{
 "cells": [
  {
   "cell_type": "code",
   "execution_count": 4,
   "metadata": {},
   "outputs": [],
   "source": [
    "import csv\n",
    "import codecs\n",
    "from tqdm import tqdm\n",
    "from urllib.request import urlretrieve\n",
    "import json"
   ]
  },
  {
   "cell_type": "code",
   "execution_count": 6,
   "metadata": {},
   "outputs": [
    {
     "name": "stdout",
     "output_type": "stream",
     "text": [
      "8650440\n"
     ]
    }
   ],
   "source": [
    "rows = []\n",
    "with codecs.open('../data/GO/pdb_chain_go.csv', encoding='utf-8') as f:\n",
    "    for row in csv.DictReader(f, skipinitialspace=True):\n",
    "        rows.append(row)\n",
    "print(len(rows))"
   ]
  },
  {
   "cell_type": "code",
   "execution_count": null,
   "metadata": {},
   "outputs": [],
   "source": [
    "rows[0]"
   ]
  },
  {
   "cell_type": "code",
   "execution_count": 7,
   "metadata": {},
   "outputs": [],
   "source": [
    "with open('../data/EC/download_pdb.json') as f:\n",
    "    download_pdb_ec = json.load(f)\n",
    "with open('../data/EC/failed_pdb.json') as f:\n",
    "    failed_pdb_ec = json.load(f)\n",
    "pdb_ec = download_pdb_ec + failed_pdb_ec"
   ]
  },
  {
   "cell_type": "code",
   "execution_count": 8,
   "metadata": {},
   "outputs": [],
   "source": [
    "pdbids_go = [row['PDB'] for row in rows]\n",
    "pdbids_go = list(set(pdbids_go))"
   ]
  },
  {
   "cell_type": "code",
   "execution_count": null,
   "metadata": {},
   "outputs": [],
   "source": [
    "need_download = []\n",
    "for pdbid in tqdm(pdbids_go):\n",
    "    if pdbid not in pdb_ec:\n",
    "        need_download.append(pdbid)\n",
    "print(len(need_download))"
   ]
  },
  {
   "cell_type": "code",
   "execution_count": null,
   "metadata": {},
   "outputs": [],
   "source": [
    "with open('../data/GO/need_download.json', 'w') as f:\n",
    "    json.dump(need_download, f)"
   ]
  },
  {
   "cell_type": "code",
   "execution_count": 9,
   "metadata": {},
   "outputs": [
    {
     "name": "stderr",
     "output_type": "stream",
     "text": [
      "  0%|          | 10/37750 [00:13<8:01:03,  1.31it/s]"
     ]
    },
    {
     "name": "stdout",
     "output_type": "stream",
     "text": [
      "cannot download: 7pia\n"
     ]
    },
    {
     "name": "stderr",
     "output_type": "stream",
     "text": [
      "  0%|          | 23/37750 [00:27<12:11:28,  1.16s/it]"
     ]
    },
    {
     "name": "stderr",
     "output_type": "stream",
     "text": [
      "  0%|          | 26/37750 [00:30<11:51:35,  1.13s/it]"
     ]
    }
   ],
   "source": [
    "failed = 0\n",
    "root_dir = '../data/GO/'\n",
    "idx = 0\n",
    "download_pdb = []\n",
    "failed_pdb = []\n",
    "for pdbid in tqdm(need_download):\n",
    "    \n",
    "    # if idx == 10:\n",
    "    #     break\n",
    "    try:\n",
    "        url = 'https://ftp.wwpdb.org/pub/pdb/data/structures/divided/pdb/'+pdbid[1:3]+'/pdb' + pdbid + '.ent.gz'\n",
    "        # print(url)\n",
    "        urlretrieve(url, root_dir +'all/' + pdbid.upper() + '.pdb.gz')\n",
    "        download_pdb.append(pdbid.lower())\n",
    "    except:\n",
    "        print(\"cannot download:\", pdbid)\n",
    "        failed += 1\n",
    "        failed_pdb.append(pdbid.lower())\n",
    "    idx += 1\n",
    "with open('../data/GO/download_pdb.json', 'w') as f:\n",
    "    json.dump(download_pdb, f)\n",
    "with open('../data/GO/failed_pdb.json', 'w') as f:\n",
    "    json.dump(failed_pdb, f)"
   ]
  },
  {
   "cell_type": "code",
   "execution_count": 7,
   "metadata": {},
   "outputs": [],
   "source": [
    "# with open('../data/GO/download_pdb.json') as f:\n",
    "#     download_pdb = json.load(f)\n",
    "with open('../data/GO/failed_pdb.json', 'r') as f:\n",
    "    failed_pdb = json.load(f)"
   ]
  },
  {
   "cell_type": "code",
   "execution_count": 8,
   "metadata": {},
   "outputs": [
    {
     "name": "stdout",
     "output_type": "stream",
     "text": [
      "1473\n"
     ]
    }
   ],
   "source": [
    "# print(len(download_pdb))\n",
    "print(len(failed_pdb))"
   ]
  },
  {
   "cell_type": "code",
   "execution_count": 1,
   "metadata": {},
   "outputs": [],
   "source": [
    "import os\n",
    "root_dir = '../data/GO/all'\n",
    "download_pdb = [name.split('.')[0] for name in os.listdir(root_dir)]"
   ]
  },
  {
   "cell_type": "code",
   "execution_count": 2,
   "metadata": {},
   "outputs": [
    {
     "name": "stdout",
     "output_type": "stream",
     "text": [
      "ok\n"
     ]
    }
   ],
   "source": [
    "download_pdb[0]\n",
    "if '7M4U' in download_pdb:\n",
    "    print(\"ok\")"
   ]
  },
  {
   "cell_type": "code",
   "execution_count": 5,
   "metadata": {},
   "outputs": [],
   "source": [
    "with open('../data/GO/need_download.json') as f:\n",
    "    need_download = json.load(f)"
   ]
  },
  {
   "cell_type": "code",
   "execution_count": 9,
   "metadata": {},
   "outputs": [
    {
     "name": "stderr",
     "output_type": "stream",
     "text": [
      "100%|██████████| 105110/105110 [05:38<00:00, 310.48it/s]"
     ]
    },
    {
     "name": "stdout",
     "output_type": "stream",
     "text": [
      "102146\n"
     ]
    },
    {
     "name": "stderr",
     "output_type": "stream",
     "text": [
      "\n"
     ]
    }
   ],
   "source": [
    "for pdbid in tqdm(pdbids_go):\n",
    "    if pdbid in download_pdb_ec:\n",
    "        download_pdb.append(pdbid)\n",
    "print(len(download_pdb))"
   ]
  },
  {
   "cell_type": "code",
   "execution_count": 10,
   "metadata": {},
   "outputs": [],
   "source": [
    "with open('../data/GO/all_download.json', 'w') as f:\n",
    "    json.dump(download_pdb, f)"
   ]
  }
 ],
 "metadata": {
  "kernelspec": {
   "display_name": "gmsl",
   "language": "python",
   "name": "python3"
  },
  "language_info": {
   "codemirror_mode": {
    "name": "ipython",
    "version": 3
   },
   "file_extension": ".py",
   "mimetype": "text/x-python",
   "name": "python",
   "nbconvert_exporter": "python",
   "pygments_lexer": "ipython3",
   "version": "3.9.12"
  },
  "orig_nbformat": 4
 },
 "nbformat": 4,
 "nbformat_minor": 2
}
