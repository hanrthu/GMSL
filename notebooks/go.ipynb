{
 "cells": [
  {
   "cell_type": "code",
   "execution_count": 2,
   "metadata": {},
   "outputs": [],
   "source": [
    "import csv\n",
    "import codecs\n",
    "from tqdm import tqdm\n",
    "from urllib.request import urlretrieve\n",
    "import json"
   ]
  },
  {
   "cell_type": "code",
   "execution_count": 3,
   "metadata": {},
   "outputs": [],
   "source": [
    "lines = None\n",
    "with open('../data/GO/go.obo') as f:\n",
    "    lines = f.readlines()"
   ]
  },
  {
   "cell_type": "code",
   "execution_count": 4,
   "metadata": {},
   "outputs": [],
   "source": [
    "cnt = 0\n",
    "go_dic = {}\n",
    "for line in lines:\n",
    "    # if cnt == 2:\n",
    "    #     break\n",
    "    line.strip()\n",
    "    if line.find('id:') == 0:\n",
    "        go = line[line.find('GO:'):].strip()\n",
    "        # print(go)\n",
    "        # cnt += 1\n",
    "    elif line.find('namespace:') == 0:\n",
    "        namespace = line[10:].strip()\n",
    "        # print(namespace)\n",
    "        # cnt += 1\n",
    "        go_dic[go] = namespace\n",
    "\n",
    "    "
   ]
  },
  {
   "cell_type": "code",
   "execution_count": 5,
   "metadata": {},
   "outputs": [],
   "source": [
    "cnt = 0\n",
    "go_name_dic = {}\n",
    "for line in lines:\n",
    "    # if cnt == 2:\n",
    "    #     break\n",
    "    line.strip()\n",
    "    if line.find('id:') == 0:\n",
    "        go = line[line.find('GO:'):].strip()\n",
    "        # print(go)\n",
    "        # cnt += 1\n",
    "    elif line.find('name:') == 0:\n",
    "        name = line[5:].strip()\n",
    "        # print(namespace)\n",
    "        # cnt += 1\n",
    "        go_name_dic[go] = name\n"
   ]
  },
  {
   "cell_type": "code",
   "execution_count": 6,
   "metadata": {},
   "outputs": [
    {
     "data": {
      "text/plain": [
       "47596"
      ]
     },
     "execution_count": 6,
     "metadata": {},
     "output_type": "execute_result"
    }
   ],
   "source": [
    "len(go_name_dic)"
   ]
  },
  {
   "cell_type": "code",
   "execution_count": 7,
   "metadata": {},
   "outputs": [
    {
     "data": {
      "text/plain": [
       "'molecular_function'"
      ]
     },
     "execution_count": 7,
     "metadata": {},
     "output_type": "execute_result"
    }
   ],
   "source": [
    "go_dic['GO:0050026']"
   ]
  },
  {
   "cell_type": "code",
   "execution_count": 8,
   "metadata": {},
   "outputs": [
    {
     "name": "stdout",
     "output_type": "stream",
     "text": [
      "8650440\n"
     ]
    }
   ],
   "source": [
    "go_rows = []\n",
    "with codecs.open('../data/GO/pdb_chain_go.csv', encoding='utf-8') as f:\n",
    "    for go_row in csv.DictReader(f, skipinitialspace=True):\n",
    "        go_rows.append(go_row)\n",
    "print(len(go_rows))"
   ]
  },
  {
   "cell_type": "code",
   "execution_count": null,
   "metadata": {},
   "outputs": [
    {
     "data": {
      "text/plain": [
       "{'PDB': '101m',\n",
       " 'CHAIN': 'A',\n",
       " 'SP_PRIMARY': 'P02185',\n",
       " 'WITH_STRING': 'UniProtKB-KW:KW-0479',\n",
       " 'EVIDENCE': 'IEA',\n",
       " 'GO_ID': 'GO:0046872'}"
      ]
     },
     "execution_count": 8,
     "metadata": {},
     "output_type": "execute_result"
    }
   ],
   "source": [
    "go_rows[0]"
   ]
  },
  {
   "cell_type": "code",
   "execution_count": 9,
   "metadata": {},
   "outputs": [
    {
     "name": "stderr",
     "output_type": "stream",
     "text": [
      "100%|██████████| 8650441/8650441 [00:31<00:00, 272211.72it/s]"
     ]
    },
    {
     "name": "stdout",
     "output_type": "stream",
     "text": [
      "8650441\n"
     ]
    },
    {
     "name": "stderr",
     "output_type": "stream",
     "text": [
      "\n"
     ]
    }
   ],
   "source": [
    "pdb_chain_go_lines = None\n",
    "with open('../data/GO/pdb_chain_go.csv', encoding='utf-8') as f:\n",
    "    pdb_chain_go_lines = f.readlines()\n",
    "cnt = 0\n",
    "pdb_chain_go_rows = []\n",
    "for line in tqdm(pdb_chain_go_lines):\n",
    "    cnt += 1\n",
    "    if cnt == 1:\n",
    "        continue\n",
    "    elements = line.split(',')\n",
    "    row = {}\n",
    "    row['PDB'] = elements[0]\n",
    "    row['CHAIN'] = elements[1]\n",
    "    row['uniprot'] = elements[2]\n",
    "    row['GO_ID'] = elements[-1].strip()\n",
    "    row['EVIDENCE'] = elements[-2]\n",
    "    pdb_chain_go_rows.append(row)\n",
    "print(cnt)"
   ]
  },
  {
   "cell_type": "code",
   "execution_count": null,
   "metadata": {},
   "outputs": [
    {
     "data": {
      "text/plain": [
       "{'PDB': '101m',\n",
       " 'CHAIN': 'A',\n",
       " 'uniprot': 'P02185',\n",
       " 'GO_ID': 'GO:0005344',\n",
       " 'EVIDENCE': 'IEA'}"
      ]
     },
     "execution_count": 10,
     "metadata": {},
     "output_type": "execute_result"
    }
   ],
   "source": [
    "pdb_chain_go_rows[1]"
   ]
  },
  {
   "cell_type": "code",
   "execution_count": null,
   "metadata": {},
   "outputs": [
    {
     "data": {
      "text/plain": [
       "{'PDB': '101m',\n",
       " 'CHAIN': 'A',\n",
       " 'SP_PRIMARY': 'P02185',\n",
       " 'WITH_STRING': 'UniProtKB-KW:KW-0479',\n",
       " 'EVIDENCE': 'IEA',\n",
       " 'GO_ID': 'GO:0046872'}"
      ]
     },
     "execution_count": 11,
     "metadata": {},
     "output_type": "execute_result"
    }
   ],
   "source": [
    "go_rows[0]"
   ]
  },
  {
   "cell_type": "code",
   "execution_count": null,
   "metadata": {},
   "outputs": [
    {
     "name": "stderr",
     "output_type": "stream",
     "text": [
      "  0%|          | 31856/8650440 [00:00<00:27, 318536.76it/s]"
     ]
    },
    {
     "name": "stderr",
     "output_type": "stream",
     "text": [
      "100%|██████████| 8650440/8650440 [00:36<00:00, 239433.83it/s]\n"
     ]
    }
   ],
   "source": [
    "from tqdm import tqdm\n",
    "go_annot = {}\n",
    "for row in tqdm(pdb_chain_go_rows):\n",
    "    pdb_chain = row['PDB'].upper() + '-' + row['CHAIN']\n",
    "    # pdb_chain = pdb_chain.upper()\n",
    "    # print(row['GO_ID'])\n",
    "    try:\n",
    "        if pdb_chain in go_annot.keys():\n",
    "            go_annot[pdb_chain][go_dic[row['GO_ID']]].append(row['GO_ID'])\n",
    "        else:\n",
    "            go_annot[pdb_chain] = {}\n",
    "            go_annot[pdb_chain]['uniprot'] = row['uniprot']\n",
    "            go_annot[pdb_chain]['molecular_function'] = []\n",
    "            go_annot[pdb_chain]['biological_process'] = []\n",
    "            go_annot[pdb_chain]['cellular_component'] = []\n",
    "            go_annot[pdb_chain][go_dic[row['GO_ID']]].append(row['GO_ID'])\n",
    "    except Exception as e:\n",
    "        print(e, pdb_chain, row['GO_ID'])"
   ]
  },
  {
   "cell_type": "code",
   "execution_count": null,
   "metadata": {},
   "outputs": [
    {
     "name": "stdout",
     "output_type": "stream",
     "text": [
      "{'uniprot': 'O43617', 'molecular_function': ['GO:0005515', 'GO:0005515', 'GO:0005515', 'GO:0005515', 'GO:0005515', 'GO:0005515', 'GO:0005515', 'GO:0005515', 'GO:0005515', 'GO:0005515', 'GO:0005515', 'GO:0005515', 'GO:0005515'], 'biological_process': ['GO:0006888', 'GO:0006891', 'GO:0016192', 'GO:0006888', 'GO:0006888', 'GO:0006901', 'GO:0048208', 'GO:0099022'], 'cellular_component': ['GO:0030008', 'GO:0005829', 'GO:0033106', 'GO:0005783', 'GO:0005794', 'GO:0005783', 'GO:0005794', 'GO:0000139', 'GO:0005829', 'GO:0030008', 'GO:0005794', 'GO:0005829', 'GO:0030008', 'GO:0005737', 'GO:1990071', 'GO:1990072', 'GO:0005829']}\n",
      "428977\n"
     ]
    }
   ],
   "source": [
    "print(go_annot['1SZ7-A'])\n",
    "print(len(go_annot))"
   ]
  },
  {
   "cell_type": "code",
   "execution_count": null,
   "metadata": {},
   "outputs": [],
   "source": [
    "with open('../data/GO/all_download.json') as f:\n",
    "    download_pdb_go = json.load(f)"
   ]
  },
  {
   "cell_type": "code",
   "execution_count": null,
   "metadata": {},
   "outputs": [],
   "source": [
    "download_pdb_go = [pdbid.upper() for pdbid in download_pdb_go]\n",
    "download_pdb_go = list(set(download_pdb_go))"
   ]
  },
  {
   "cell_type": "code",
   "execution_count": null,
   "metadata": {},
   "outputs": [
    {
     "name": "stderr",
     "output_type": "stream",
     "text": [
      "  0%|          | 0/428977 [00:00<?, ?it/s]"
     ]
    },
    {
     "name": "stderr",
     "output_type": "stream",
     "text": [
      "100%|██████████| 428977/428977 [27:13<00:00, 262.57it/s]\n"
     ]
    }
   ],
   "source": [
    "import csv\n",
    "go_tsv = []\n",
    "for key, value in tqdm(go_annot.items()):\n",
    "    if key[:4] in download_pdb_go:\n",
    "        go_tsv.append([key, ','.join(list(set(value['molecular_function']))), ','.join(list(set(value['biological_process']))), ','.join(list(set(value['cellular_component'])))])"
   ]
  },
  {
   "cell_type": "code",
   "execution_count": null,
   "metadata": {},
   "outputs": [
    {
     "data": {
      "text/plain": [
       "['101M-A', 'GO:0005344,GO:0046872', 'GO:0071588,GO:0015671', '']"
      ]
     },
     "execution_count": 31,
     "metadata": {},
     "output_type": "execute_result"
    }
   ],
   "source": [
    "go_tsv[0]"
   ]
  },
  {
   "cell_type": "code",
   "execution_count": null,
   "metadata": {},
   "outputs": [
    {
     "name": "stderr",
     "output_type": "stream",
     "text": [
      "  0%|          | 0/428977 [00:00<?, ?it/s]"
     ]
    },
    {
     "name": "stderr",
     "output_type": "stream",
     "text": [
      "100%|██████████| 428977/428977 [26:40<00:00, 267.97it/s]\n"
     ]
    }
   ],
   "source": [
    "mf  = []\n",
    "bp = []\n",
    "cc = []\n",
    "for key, value in tqdm(go_annot.items()):\n",
    "    if key[:4] in download_pdb_go:\n",
    "        mf.extend(value['molecular_function'])\n",
    "        bp.extend(value['biological_process'])\n",
    "        cc.extend(value['cellular_component'])\n",
    "mf = list(set(mf))\n",
    "bp = list(set(bp))\n",
    "cc = list(set(cc))"
   ]
  },
  {
   "cell_type": "code",
   "execution_count": null,
   "metadata": {},
   "outputs": [
    {
     "ename": "NameError",
     "evalue": "name 'mf' is not defined",
     "output_type": "error",
     "traceback": [
      "\u001b[0;31m---------------------------------------------------------------------------\u001b[0m",
      "\u001b[0;31mNameError\u001b[0m                                 Traceback (most recent call last)",
      "Cell \u001b[0;32mIn[1], line 1\u001b[0m\n\u001b[0;32m----> 1\u001b[0m \u001b[39mprint\u001b[39m(\u001b[39mlen\u001b[39m(mf))\n\u001b[1;32m      2\u001b[0m \u001b[39mprint\u001b[39m(\u001b[39mlen\u001b[39m(bp))\n\u001b[1;32m      3\u001b[0m \u001b[39mprint\u001b[39m(\u001b[39mlen\u001b[39m(cc))\n",
      "\u001b[0;31mNameError\u001b[0m: name 'mf' is not defined"
     ]
    }
   ],
   "source": [
    "print(len(mf))\n",
    "print(len(bp))\n",
    "print(len(cc))"
   ]
  },
  {
   "cell_type": "code",
   "execution_count": null,
   "metadata": {},
   "outputs": [],
   "source": [
    "mf_name = [go_name_dic[go_mf] for go_mf in mf]\n",
    "bp_name = [go_name_dic[go_bp] for go_bp in bp]\n",
    "cc_name = [go_name_dic[go_cc] for go_cc in cc]"
   ]
  },
  {
   "cell_type": "code",
   "execution_count": null,
   "metadata": {},
   "outputs": [],
   "source": [
    "type_list = ['molecular_function', 'biological_process', 'cellular_component']\n",
    "go_type_list = {\n",
    "    'molecular_function': [mf, mf_name],\n",
    "    'biological_process': [bp, bp_name],\n",
    "    'cellular_component': [cc, cc_name]\n",
    "}\n",
    "annot = \"\"\n",
    "for t in type_list:\n",
    "    annot += '### GO-terms ({})'.format(t) +'\\n'\n",
    "    annot += ('\\t'.join(go_type_list[t][0]) + '\\n')\n",
    "    annot += '### GO-names ({})'.format(t) +'\\n'\n",
    "    annot += ('\\t'.join(go_type_list[t][1]) + '\\n')"
   ]
  },
  {
   "cell_type": "code",
   "execution_count": null,
   "metadata": {},
   "outputs": [],
   "source": [
    "with open('../data/GO/nrPDB-GO_annot.tsv', 'w') as f:\n",
    "    f.writelines(annot)\n",
    "    for row in go_tsv:\n",
    "        f.writelines('\\t'.join(row) + '\\n')"
   ]
  },
  {
   "cell_type": "code",
   "execution_count": null,
   "metadata": {},
   "outputs": [],
   "source": [
    "with open('../data/GO/nrPDB-GO_annot.tsv', 'w') as f:\n",
    "    go_lines = f.readlines()\n",
    "for line in go_lines[13:]:\n",
    "    "
   ]
  },
  {
   "cell_type": "code",
   "execution_count": 25,
   "metadata": {},
   "outputs": [
    {
     "name": "stdout",
     "output_type": "stream",
     "text": [
      "['7NS4-B', 'GO:0005515,GO:0061630,GO:0004842,GO:0008270,GO:0046872,GO:0016740', 'GO:0043161,GO:0006511,GO:0045721,GO:0016567', 'GO:0034657,GO:0005737,GO:0005829,GO:0005777,GO:0005634']\n",
      "['7NS4-I', 'GO:0061630,GO:0004842,GO:0046872,GO:0016740', 'GO:0043161,GO:0043066,GO:0045721,GO:0016567', 'GO:0034657,GO:0005634,GO:0005737']\n"
     ]
    }
   ],
   "source": [
    "for row in go_tsv:\n",
    "    if '7NS4' in row[0]:\n",
    "        print(row)"
   ]
  },
  {
   "cell_type": "code",
   "execution_count": 32,
   "metadata": {},
   "outputs": [
    {
     "name": "stderr",
     "output_type": "stream",
     "text": [
      "  1%|          | 46719/8650440 [00:00<00:18, 467148.12it/s]"
     ]
    },
    {
     "name": "stderr",
     "output_type": "stream",
     "text": [
      "100%|██████████| 8650440/8650440 [00:20<00:00, 414826.93it/s]\n",
      "100%|██████████| 397040/397040 [00:02<00:00, 152114.80it/s]\n"
     ]
    }
   ],
   "source": [
    "go_uniprot_dic = {}\n",
    "for row in tqdm(pdb_chain_go_rows):\n",
    "    pdb_chain = row['PDB'].upper() + '-' + row['CHAIN']\n",
    "    if pdb_chain not in go_uniprot_dic.keys():\n",
    "        go_uniprot_dic[pdb_chain] = []\n",
    "    go_uniprot_dic[pdb_chain].append(row['uniprot'])\n",
    "for k, v in tqdm(go_uniprot_dic.items()):\n",
    "    go_uniprot_dic[k] = list(set(v))"
   ]
  },
  {
   "cell_type": "code",
   "execution_count": 33,
   "metadata": {},
   "outputs": [],
   "source": [
    "go_uniprots = {}\n",
    "for go in go_tsv:\n",
    "    pdbid = go[0]\n",
    "    go_uniprots[pdbid] = go_uniprot_dic[pdbid]"
   ]
  },
  {
   "cell_type": "code",
   "execution_count": 34,
   "metadata": {},
   "outputs": [],
   "source": [
    "with open('../output_info/go_uniprots.json', 'w') as f:\n",
    "    json.dump(go_uniprots, f)"
   ]
  },
  {
   "cell_type": "code",
   "execution_count": 36,
   "metadata": {},
   "outputs": [
    {
     "data": {
      "text/plain": [
       "{'PDB': '101m',\n",
       " 'CHAIN': 'A',\n",
       " 'uniprot': 'P02185',\n",
       " 'GO_ID': 'GO:0046872',\n",
       " 'EVIDENCE': 'IEA'}"
      ]
     },
     "execution_count": 36,
     "metadata": {},
     "output_type": "execute_result"
    }
   ],
   "source": [
    "pdb_chain_go_rows[0]"
   ]
  },
  {
   "cell_type": "code",
   "execution_count": 45,
   "metadata": {},
   "outputs": [],
   "source": [
    "pdb_chain_uniprots = {}\n",
    "for row in pdb_chain_go_rows:\n",
    "    pdb_chain = row['PDB'].upper() + '-' + row['CHAIN']\n",
    "    if pdb_chain in pdb_chain_uniprots.keys():\n",
    "        pdb_chain_uniprots[pdb_chain][row['CHAIN']] = row['uniprot']\n",
    "    else:\n",
    "        pdb_chain_uniprots[pdb_chain] = {}\n",
    "        pdb_chain_uniprots[pdb_chain][row['CHAIN']] = row['uniprot']"
   ]
  },
  {
   "cell_type": "code",
   "execution_count": 46,
   "metadata": {},
   "outputs": [
    {
     "data": {
      "text/plain": [
       "{'b': 'Q29259'}"
      ]
     },
     "execution_count": 46,
     "metadata": {},
     "output_type": "execute_result"
    }
   ],
   "source": [
    "pdb_chain_uniprots['7V2E-B']"
   ]
  },
  {
   "cell_type": "code",
   "execution_count": 37,
   "metadata": {},
   "outputs": [],
   "source": [
    "with open('../output_info/uniprot_dict_all_origin.json') as f:\n",
    "    uniprots_all = json.load(f)"
   ]
  },
  {
   "cell_type": "code",
   "execution_count": 40,
   "metadata": {},
   "outputs": [],
   "source": [
    "with open('../datasets/MultiTask_go/test.txt') as f:\n",
    "    test_list  = f.readlines()\n",
    "with open('../datasets/MultiTask_go/val.txt') as f:\n",
    "    val_list  = f.readlines()\n",
    "with open('../datasets/MultiTask_go/train.txt') as f:\n",
    "    train_list  = f.readlines()\n",
    "with open('../datasets/MultiTask_go/train_all.txt') as f:\n",
    "    train_all_list  = f.readlines()"
   ]
  },
  {
   "cell_type": "code",
   "execution_count": 47,
   "metadata": {},
   "outputs": [],
   "source": [
    "all_list = test_list + val_list + train_list + train_all_list\n",
    "for i in all_list:\n",
    "    i = i[:-1]\n",
    "    if i not in uniprots_all.keys():\n",
    "        uniprots_all[i] = pdb_chain_uniprots[i]"
   ]
  },
  {
   "cell_type": "code",
   "execution_count": 48,
   "metadata": {},
   "outputs": [],
   "source": [
    "with open('../output_info/uniprot_dict_all_go.json', 'w') as f:\n",
    "    json.dump(uniprots_all, f)"
   ]
  },
  {
   "cell_type": "code",
   "execution_count": null,
   "metadata": {},
   "outputs": [],
   "source": [
    "test_go = '''155C-A\tGO:0009055,GO:0046906,GO:0020037\tGO:0006091,GO:0022900\t\n",
    "'''"
   ]
  },
  {
   "cell_type": "code",
   "execution_count": null,
   "metadata": {},
   "outputs": [],
   "source": [
    "# test_go = test_go.split('\\t')\n",
    "test_go"
   ]
  },
  {
   "cell_type": "code",
   "execution_count": null,
   "metadata": {},
   "outputs": [],
   "source": [
    "test_go[3].find('48208')"
   ]
  },
  {
   "cell_type": "code",
   "execution_count": null,
   "metadata": {},
   "outputs": [],
   "source": [
    "nr_lines = None\n",
    "with open('../data/nrPDB-GO_annot.tsv') as f:\n",
    "    nr_lines = f.readlines()"
   ]
  },
  {
   "cell_type": "code",
   "execution_count": null,
   "metadata": {},
   "outputs": [],
   "source": [
    "go_term_dic = {'molecular_function': [], 'biological_process': [], 'cellular_component': []}\n",
    "flag = 0\n",
    "for idx, line in enumerate(nr_lines):\n",
    "    if line.find('### GO-terms') == 0:\n",
    "        gos = nr_lines[idx + 1].split('\\t')\n",
    "        gos = [go_id.strip() for go_id in gos]\n",
    "        if flag == 0:\n",
    "            go_term_dic['molecular_function'] = gos\n",
    "        elif flag == 1:\n",
    "            go_term_dic['biological_process'] = gos\n",
    "        elif flag == 2:\n",
    "            go_term_dic['cellular_component'] = gos\n",
    "        flag += 1"
   ]
  },
  {
   "cell_type": "code",
   "execution_count": null,
   "metadata": {},
   "outputs": [],
   "source": [
    "go_terms = {'molecular_function': [], 'biological_process': [], 'cellular_component': []}\n",
    "for i in range(13, len(nr_lines)):\n",
    "    GO_TERM = nr_lines[i][:-1].split('\\t')\n",
    "    if GO_TERM[1]!= '':\n",
    "        go_terms['molecular_function'].extend(GO_TERM[1].split(','))\n",
    "    if GO_TERM[2]!= '':\n",
    "        go_terms['biological_process'].extend(GO_TERM[2].split(','))\n",
    "    if GO_TERM[3]!= '':\n",
    "        go_terms['cellular_component'].extend(GO_TERM[3].split(','))"
   ]
  },
  {
   "cell_type": "code",
   "execution_count": null,
   "metadata": {},
   "outputs": [],
   "source": [
    "go_terms['molecular_function'] = list(set(go_terms['molecular_function']))\n",
    "go_terms['biological_process'] = list(set(go_terms['biological_process']))\n",
    "go_terms['cellular_component'] = list(set(go_terms['cellular_component']))"
   ]
  },
  {
   "cell_type": "code",
   "execution_count": null,
   "metadata": {},
   "outputs": [],
   "source": [
    "if go_term_dic['cellular_component'].sort() == go_terms['cellular_component'].sort():\n",
    "    print('true')"
   ]
  }
 ],
 "metadata": {
  "kernelspec": {
   "display_name": "reptile",
   "language": "python",
   "name": "python3"
  },
  "language_info": {
   "codemirror_mode": {
    "name": "ipython",
    "version": 3
   },
   "file_extension": ".py",
   "mimetype": "text/x-python",
   "name": "python",
   "nbconvert_exporter": "python",
   "pygments_lexer": "ipython3",
   "version": "3.9.12"
  },
  "orig_nbformat": 4
 },
 "nbformat": 4,
 "nbformat_minor": 2
}
