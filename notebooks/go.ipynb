{
 "cells": [
  {
   "cell_type": "code",
   "execution_count": 8,
   "metadata": {},
   "outputs": [],
   "source": [
    "import csv\n",
    "import codecs\n",
    "from tqdm import tqdm\n",
    "from urllib.request import urlretrieve\n",
    "import json"
   ]
  },
  {
   "cell_type": "code",
   "execution_count": 9,
   "metadata": {},
   "outputs": [],
   "source": [
    "lines = None\n",
    "with open('../data/GO/go.obo') as f:\n",
    "    lines = f.readlines()"
   ]
  },
  {
   "cell_type": "code",
   "execution_count": 10,
   "metadata": {},
   "outputs": [],
   "source": [
    "cnt = 0\n",
    "go_dic = {}\n",
    "for line in lines:\n",
    "    # if cnt == 2:\n",
    "    #     break\n",
    "    line.strip()\n",
    "    if line.find('id:') == 0:\n",
    "        go = line[line.find('GO:'):].strip()\n",
    "        # print(go)\n",
    "        # cnt += 1\n",
    "    elif line.find('namespace:') == 0:\n",
    "        namespace = line[10:].strip()\n",
    "        # print(namespace)\n",
    "        # cnt += 1\n",
    "        go_dic[go] = namespace\n",
    "\n",
    "    "
   ]
  },
  {
   "cell_type": "code",
   "execution_count": 11,
   "metadata": {},
   "outputs": [],
   "source": [
    "cnt = 0\n",
    "go_name_dic = {}\n",
    "for line in lines:\n",
    "    # if cnt == 2:\n",
    "    #     break\n",
    "    line.strip()\n",
    "    if line.find('id:') == 0:\n",
    "        go = line[line.find('GO:'):].strip()\n",
    "        # print(go)\n",
    "        # cnt += 1\n",
    "    elif line.find('name:') == 0:\n",
    "        name = line[5:].strip()\n",
    "        # print(namespace)\n",
    "        # cnt += 1\n",
    "        go_name_dic[go] = name\n"
   ]
  },
  {
   "cell_type": "code",
   "execution_count": 12,
   "metadata": {},
   "outputs": [
    {
     "data": {
      "text/plain": [
       "47596"
      ]
     },
     "execution_count": 12,
     "metadata": {},
     "output_type": "execute_result"
    }
   ],
   "source": [
    "len(go_name_dic)"
   ]
  },
  {
   "cell_type": "code",
   "execution_count": 13,
   "metadata": {},
   "outputs": [
    {
     "data": {
      "text/plain": [
       "'molecular_function'"
      ]
     },
     "execution_count": 13,
     "metadata": {},
     "output_type": "execute_result"
    }
   ],
   "source": [
    "go_dic['GO:0050026']"
   ]
  },
  {
   "cell_type": "code",
   "execution_count": 14,
   "metadata": {},
   "outputs": [
    {
     "name": "stdout",
     "output_type": "stream",
     "text": [
      "8650440\n"
     ]
    }
   ],
   "source": [
    "go_rows = []\n",
    "with codecs.open('../data/GO/pdb_chain_go.csv', encoding='utf-8') as f:\n",
    "    for go_row in csv.DictReader(f, skipinitialspace=True):\n",
    "        go_rows.append(go_row)\n",
    "print(len(go_rows))"
   ]
  },
  {
   "cell_type": "code",
   "execution_count": 15,
   "metadata": {},
   "outputs": [
    {
     "data": {
      "text/plain": [
       "{'PDB': '101m',\n",
       " 'CHAIN': 'A',\n",
       " 'SP_PRIMARY': 'P02185',\n",
       " 'WITH_STRING': 'UniProtKB-KW:KW-0479',\n",
       " 'EVIDENCE': 'IEA',\n",
       " 'GO_ID': 'GO:0046872'}"
      ]
     },
     "execution_count": 15,
     "metadata": {},
     "output_type": "execute_result"
    }
   ],
   "source": [
    "go_rows[0]"
   ]
  },
  {
   "cell_type": "code",
   "execution_count": 16,
   "metadata": {},
   "outputs": [
    {
     "name": "stderr",
     "output_type": "stream",
     "text": [
      "100%|██████████| 8650441/8650441 [00:38<00:00, 225119.03it/s]"
     ]
    },
    {
     "name": "stdout",
     "output_type": "stream",
     "text": [
      "8650441\n"
     ]
    },
    {
     "name": "stderr",
     "output_type": "stream",
     "text": [
      "\n"
     ]
    }
   ],
   "source": [
    "pdb_chain_go_lines = None\n",
    "with open('../data/GO/pdb_chain_go.csv', encoding='utf-8') as f:\n",
    "    pdb_chain_go_lines = f.readlines()\n",
    "cnt = 0\n",
    "pdb_chain_go_rows = []\n",
    "for line in tqdm(pdb_chain_go_lines):\n",
    "    cnt += 1\n",
    "    if cnt == 1:\n",
    "        continue\n",
    "    elements = line.split(',')\n",
    "    row = {}\n",
    "    row['PDB'] = elements[0]\n",
    "    row['CHAIN'] = elements[1]\n",
    "    row['uniprot'] = elements[2]\n",
    "    row['GO_ID'] = elements[-1].strip()\n",
    "    row['EVIDENCE'] = elements[-2]\n",
    "    pdb_chain_go_rows.append(row)\n",
    "print(cnt)"
   ]
  },
  {
   "cell_type": "code",
   "execution_count": 17,
   "metadata": {},
   "outputs": [
    {
     "data": {
      "text/plain": [
       "{'PDB': '101m',\n",
       " 'CHAIN': 'A',\n",
       " 'uniprot': 'P02185',\n",
       " 'GO_ID': 'GO:0005344',\n",
       " 'EVIDENCE': 'IEA'}"
      ]
     },
     "execution_count": 17,
     "metadata": {},
     "output_type": "execute_result"
    }
   ],
   "source": [
    "pdb_chain_go_rows[1]"
   ]
  },
  {
   "cell_type": "code",
   "execution_count": 18,
   "metadata": {},
   "outputs": [
    {
     "data": {
      "text/plain": [
       "{'PDB': '101m',\n",
       " 'CHAIN': 'A',\n",
       " 'SP_PRIMARY': 'P02185',\n",
       " 'WITH_STRING': 'UniProtKB-KW:KW-0479',\n",
       " 'EVIDENCE': 'IEA',\n",
       " 'GO_ID': 'GO:0046872'}"
      ]
     },
     "execution_count": 18,
     "metadata": {},
     "output_type": "execute_result"
    }
   ],
   "source": [
    "go_rows[0]"
   ]
  },
  {
   "cell_type": "code",
   "execution_count": 24,
   "metadata": {},
   "outputs": [],
   "source": [
    "origin_go_id = []\n",
    "original_datas = {}\n",
    "with open('../data/GeneOntology/nrPDB-GO_annot.tsv') as f:\n",
    "    go_origin_lines = f.readlines()\n",
    "for line in go_origin_lines[12:]:\n",
    "    data = line.split('\\t')\n",
    "    original_datas[data[0]] = {}\n",
    "    original_datas[data[0]]['molecular_function'] = data[1].split(',')\n",
    "    original_datas[data[0]]['biological_process'] = data[2].split(',')\n",
    "    original_datas[data[0]]['cellular_component'] = data[3].split(',')\n",
    "for i in [1,5,9]:\n",
    "    origin_go_id.extend(go_origin_lines[i].split('\\t'))\n",
    "origin_go_id = [i.strip() for i in origin_go_id]"
   ]
  },
  {
   "cell_type": "code",
   "execution_count": 20,
   "metadata": {},
   "outputs": [],
   "source": [
    "with open('../output_info/gene_ontology_uniprots.json') as f:\n",
    "    original_uniprots = json.load(f)\n",
    "need_uniprots = []\n",
    "for key in original_datas.keys():\n",
    "    try:\n",
    "        original_datas[key]['uniprot'] = original_datas[key]\n",
    "    except:\n",
    "        need_uniprots.append(key)"
   ]
  },
  {
   "cell_type": "code",
   "execution_count": 25,
   "metadata": {},
   "outputs": [
    {
     "name": "stderr",
     "output_type": "stream",
     "text": [
      "100%|██████████| 8650440/8650440 [16:14<00:00, 8874.98it/s]  \n"
     ]
    }
   ],
   "source": [
    "from tqdm import tqdm\n",
    "# go_annot = {}\n",
    "for row in tqdm(pdb_chain_go_rows):\n",
    "    pdb_chain = row['PDB'].upper() + '-' + row['CHAIN']\n",
    "    # pdb_chain = pdb_chain.upper()\n",
    "    # print(row['GO_ID'])\n",
    "    try:\n",
    "        if pdb_chain in original_datas.keys():\n",
    "            if row['GO_ID'] in origin_go_id:\n",
    "                original_datas[pdb_chain][go_dic[row['GO_ID']]].append(row['GO_ID'])\n",
    "        else:\n",
    "            original_datas[pdb_chain] = {}\n",
    "            original_datas[pdb_chain]['uniprot'] = row['uniprot']\n",
    "            original_datas[pdb_chain]['molecular_function'] = []\n",
    "            original_datas[pdb_chain]['biological_process'] = []\n",
    "            original_datas[pdb_chain]['cellular_component'] = []\n",
    "            if row['GO_ID'] in origin_go_id:\n",
    "                original_datas[pdb_chain][go_dic[row['GO_ID']]].append(row['GO_ID'])\n",
    "    except Exception as e:\n",
    "        print(e, pdb_chain, row['GO_ID'])"
   ]
  },
  {
   "cell_type": "code",
   "execution_count": 22,
   "metadata": {},
   "outputs": [
    {
     "name": "stderr",
     "output_type": "stream",
     "text": [
      "  1%|▏         | 115351/8650440 [00:07<09:36, 14810.26it/s]\n"
     ]
    },
    {
     "ename": "KeyboardInterrupt",
     "evalue": "",
     "output_type": "error",
     "traceback": [
      "\u001b[0;31m---------------------------------------------------------------------------\u001b[0m",
      "\u001b[0;31mKeyboardInterrupt\u001b[0m                         Traceback (most recent call last)",
      "Cell \u001b[0;32mIn[22], line 18\u001b[0m\n\u001b[1;32m     16\u001b[0m         go_annot[pdb_chain][\u001b[39m'\u001b[39m\u001b[39mcellular_component\u001b[39m\u001b[39m'\u001b[39m] \u001b[39m=\u001b[39m []\n\u001b[1;32m     17\u001b[0m         \u001b[39mif\u001b[39;00m row[\u001b[39m'\u001b[39m\u001b[39mGO_ID\u001b[39m\u001b[39m'\u001b[39m] \u001b[39min\u001b[39;00m origin_go_id:\n\u001b[0;32m---> 18\u001b[0m             go_annot[pdb_chain][go_dic[row[\u001b[39m'\u001b[39m\u001b[39mGO_ID\u001b[39m\u001b[39m'\u001b[39m]]]\u001b[39m.\u001b[39mappend(row[\u001b[39m'\u001b[39m\u001b[39mGO_ID\u001b[39m\u001b[39m'\u001b[39m])\n\u001b[1;32m     19\u001b[0m \u001b[39mexcept\u001b[39;00m \u001b[39mException\u001b[39;00m \u001b[39mas\u001b[39;00m e:\n\u001b[1;32m     20\u001b[0m     \u001b[39mprint\u001b[39m(e, pdb_chain, row[\u001b[39m'\u001b[39m\u001b[39mGO_ID\u001b[39m\u001b[39m'\u001b[39m])\n",
      "\u001b[0;31mKeyboardInterrupt\u001b[0m: "
     ]
    }
   ],
   "source": [
    "from tqdm import tqdm\n",
    "go_annot = {}\n",
    "for row in tqdm(pdb_chain_go_rows):\n",
    "    pdb_chain = row['PDB'].upper() + '-' + row['CHAIN']\n",
    "    # pdb_chain = pdb_chain.upper()\n",
    "    # print(row['GO_ID'])\n",
    "    try:\n",
    "        if pdb_chain in go_annot.keys():\n",
    "            if row['GO_ID'] in origin_go_id:\n",
    "                go_annot[pdb_chain][go_dic[row['GO_ID']]].append(row['GO_ID'])\n",
    "        else:\n",
    "            go_annot[pdb_chain] = {}\n",
    "            go_annot[pdb_chain]['uniprot'] = row['uniprot']\n",
    "            go_annot[pdb_chain]['molecular_function'] = []\n",
    "            go_annot[pdb_chain]['biological_process'] = []\n",
    "            go_annot[pdb_chain]['cellular_component'] = []\n",
    "            if row['GO_ID'] in origin_go_id:\n",
    "                go_annot[pdb_chain][go_dic[row['GO_ID']]].append(row['GO_ID'])\n",
    "    except Exception as e:\n",
    "        print(e, pdb_chain, row['GO_ID'])"
   ]
  },
  {
   "cell_type": "code",
   "execution_count": 27,
   "metadata": {},
   "outputs": [
    {
     "name": "stdout",
     "output_type": "stream",
     "text": [
      "443965\n"
     ]
    }
   ],
   "source": [
    "# print(go_annot['1SZ7-A'])\n",
    "print(len(original_datas))"
   ]
  },
  {
   "cell_type": "code",
   "execution_count": 28,
   "metadata": {},
   "outputs": [],
   "source": [
    "with open('../data/GO/all_download.json') as f:\n",
    "    download_pdb_go = json.load(f)"
   ]
  },
  {
   "cell_type": "code",
   "execution_count": null,
   "metadata": {},
   "outputs": [],
   "source": [
    "import os\n",
    "original_download_pdb = os.listdir('../data/GeneOntology/all')"
   ]
  },
  {
   "cell_type": "code",
   "execution_count": null,
   "metadata": {},
   "outputs": [],
   "source": [
    "download_pdb_go = [pdbid.upper() for pdbid in download_pdb_go]\n",
    "download_pdb_go = list(set(download_pdb_go))"
   ]
  },
  {
   "cell_type": "code",
   "execution_count": null,
   "metadata": {},
   "outputs": [
    {
     "name": "stderr",
     "output_type": "stream",
     "text": [
      "100%|██████████| 428977/428977 [21:14<00:00, 336.55it/s] \n"
     ]
    }
   ],
   "source": [
    "import csv\n",
    "go_tsv = []\n",
    "for key, value in tqdm(go_annot.items()):\n",
    "    if key[:4] in download_pdb_go:\n",
    "        if len(value['molecular_function']) == 0 and len(value['biological_process']) == 0 and len(value['cellular_component']) == 0:\n",
    "            continue\n",
    "        go_tsv.append([key, ','.join(list(set(value['molecular_function']))), ','.join(list(set(value['biological_process']))), ','.join(list(set(value['cellular_component'])))])"
   ]
  },
  {
   "cell_type": "code",
   "execution_count": null,
   "metadata": {},
   "outputs": [
    {
     "data": {
      "text/plain": [
       "284796"
      ]
     },
     "execution_count": 20,
     "metadata": {},
     "output_type": "execute_result"
    }
   ],
   "source": [
    "len(go_tsv)"
   ]
  },
  {
   "cell_type": "code",
   "execution_count": null,
   "metadata": {},
   "outputs": [
    {
     "name": "stderr",
     "output_type": "stream",
     "text": [
      "100%|██████████| 428977/428977 [21:18<00:00, 335.42it/s]\n"
     ]
    },
    {
     "name": "stdout",
     "output_type": "stream",
     "text": [
      "426 1363 255\n"
     ]
    }
   ],
   "source": [
    "mf  = []\n",
    "bp = []\n",
    "cc = []\n",
    "for key, value in tqdm(go_annot.items()):\n",
    "    if key[:4] in download_pdb_go:\n",
    "        mf.extend(value['molecular_function'])\n",
    "        bp.extend(value['biological_process'])\n",
    "        cc.extend(value['cellular_component'])\n",
    "mf = list(set(mf))\n",
    "bp = list(set(bp))\n",
    "cc = list(set(cc))\n",
    "print(len(mf), len(bp), len(cc))"
   ]
  },
  {
   "cell_type": "code",
   "execution_count": null,
   "metadata": {},
   "outputs": [
    {
     "name": "stdout",
     "output_type": "stream",
     "text": [
      "284796\n"
     ]
    }
   ],
   "source": [
    "print(len(go_tsv))"
   ]
  },
  {
   "cell_type": "code",
   "execution_count": null,
   "metadata": {},
   "outputs": [],
   "source": [
    "mf_name = [go_name_dic[go_mf] for go_mf in mf]\n",
    "bp_name = [go_name_dic[go_bp] for go_bp in bp]\n",
    "cc_name = [go_name_dic[go_cc] for go_cc in cc]"
   ]
  },
  {
   "cell_type": "code",
   "execution_count": null,
   "metadata": {},
   "outputs": [],
   "source": [
    "type_list = ['molecular_function', 'biological_process', 'cellular_component']\n",
    "go_type_list = {\n",
    "    'molecular_function': [mf, mf_name],\n",
    "    'biological_process': [bp, bp_name],\n",
    "    'cellular_component': [cc, cc_name]\n",
    "}\n",
    "annot = \"\"\n",
    "for t in type_list:\n",
    "    annot += '### GO-terms ({})'.format(t) +'\\n'\n",
    "    annot += ('\\t'.join(go_type_list[t][0]) + '\\n')\n",
    "    annot += '### GO-names ({})'.format(t) +'\\n'\n",
    "    annot += ('\\t'.join(go_type_list[t][1]) + '\\n')"
   ]
  },
  {
   "cell_type": "code",
   "execution_count": null,
   "metadata": {},
   "outputs": [],
   "source": [
    "with open('../data/GO/nrPDB-GO_annot.tsv', 'w') as f:\n",
    "    f.writelines(annot)\n",
    "    for row in go_tsv:\n",
    "        f.writelines('\\t'.join(row) + '\\n')"
   ]
  },
  {
   "cell_type": "code",
   "execution_count": null,
   "metadata": {},
   "outputs": [
    {
     "name": "stdout",
     "output_type": "stream",
     "text": [
      "['7NS4-b', 'GO:0004842,GO:0061630,GO:0008270', 'GO:0006511,GO:0016567,GO:0043161', 'GO:0005634,GO:0005777,GO:0005829']\n",
      "['7NS4-i', 'GO:0004842,GO:0061630', 'GO:0016567,GO:0043066,GO:0043161', 'GO:0005634']\n"
     ]
    }
   ],
   "source": [
    "for row in go_tsv:\n",
    "    if '7NS4' in row[0]:\n",
    "        print(row)"
   ]
  },
  {
   "cell_type": "code",
   "execution_count": 5,
   "metadata": {},
   "outputs": [
    {
     "name": "stderr",
     "output_type": "stream",
     "text": [
      "100%|██████████| 8650440/8650440 [00:29<00:00, 293168.33it/s]\n",
      "100%|██████████| 428977/428977 [00:01<00:00, 242920.47it/s]\n"
     ]
    }
   ],
   "source": [
    "go_uniprot_dic = {}\n",
    "for row in tqdm(pdb_chain_go_rows):\n",
    "    pdb_chain = row['PDB'].upper() + '-' + row['CHAIN']\n",
    "    if pdb_chain not in go_uniprot_dic.keys():\n",
    "        go_uniprot_dic[pdb_chain] = []\n",
    "    go_uniprot_dic[pdb_chain].append(row['uniprot'])\n",
    "for k, v in tqdm(go_uniprot_dic.items()):\n",
    "    go_uniprot_dic[k] = list(set(v))"
   ]
  },
  {
   "cell_type": "code",
   "execution_count": 6,
   "metadata": {},
   "outputs": [
    {
     "name": "stdout",
     "output_type": "stream",
     "text": [
      "1F11-A ['P01837', 'P01665']\n",
      "1F11-C ['P01837', 'P01665']\n",
      "1HSJ-A ['P0AEX9', 'Q9F0R1']\n",
      "1HSJ-B ['P0AEX9', 'Q9F0R1']\n",
      "1PUO-A ['P30440', 'P30438']\n",
      "1PUO-B ['P30440', 'P30438']\n",
      "1ZVO-A ['P0CG04', 'P01700']\n",
      "1ZVO-B ['P0CG04', 'P01700']\n",
      "2JAD-A ['P25373', 'P42212']\n",
      "3AGP-A ['P0A6P3', 'P0A6N3', 'P14647']\n",
      "3AGQ-A ['P0A6P3', 'P0A6N3', 'P14647']\n",
      "3AL0-C ['Q9X2I8', 'Q9WY94']\n",
      "3AVT-A ['P0A6P3', 'P0A6N3', 'P14647']\n",
      "3AVU-A ['P0A6P3', 'P0A6N3', 'P14647']\n",
      "3AVV-A ['P0A6P3', 'P0A6N3', 'P14647']\n",
      "3AVW-A ['P0A6P3', 'P0A6N3', 'P14647']\n",
      "3AVX-A ['P0A6P3', 'P0A6N3', 'P14647']\n",
      "3AVY-A ['P0A6P3', 'P0A6N3', 'P14647']\n",
      "3DM0-A ['P0AEX9', 'O24456']\n",
      "3F83-A ['P0CK93', 'P25734']\n",
      "3J9P-A ['P0AEX9', 'O75762']\n",
      "3J9P-B ['P0AEX9', 'O75762']\n",
      "3J9P-C ['P0AEX9', 'O75762']\n",
      "3J9P-D ['P0AEX9', 'O75762']\n",
      "3MMP-A ['P0CE48', 'P0A6P1']\n",
      "3MMP-C ['P0CE48', 'P0A6P1']\n",
      "3PY7-A ['P0AEX9', 'P06931']\n",
      "3TSY-A ['Q2HY10', 'Q42524']\n",
      "3U0W-L ['P01834', 'P01647']\n",
      "3VNU-A ['P0A6P3', 'P0A6N3', 'P14647']\n",
      "3VNV-A ['P0A6P3', 'P0A6N3', 'P14647']\n",
      "4BL8-A ['P0AEX9', 'Q9UMX1']\n",
      "4BL8-B ['P0AEX9', 'Q9UMX1']\n",
      "4D4O-A ['P31386', 'Q3E840']\n",
      "4D4O-B ['P31386', 'Q3E840']\n",
      "4D4O-C ['P31386', 'Q3E840']\n",
      "4D4P-A ['P31386', 'Q3E840']\n",
      "4D4P-B ['P31386', 'Q3E840']\n",
      "4D4P-C ['P31386', 'Q3E840']\n",
      "4D4P-E ['P31386', 'Q3E840']\n",
      "4D4P-G ['P31386', 'Q3E840']\n",
      "4D4P-H ['P31386', 'Q3E840']\n",
      "4DDG-A ['P62837', 'Q96FW1']\n",
      "4DDG-B ['P62837', 'Q96FW1']\n",
      "4DDG-C ['P62837', 'Q96FW1']\n",
      "4DDG-J ['P62837', 'Q96FW1']\n",
      "4DDG-K ['P62837', 'Q96FW1']\n",
      "4DDG-L ['P62837', 'Q96FW1']\n",
      "4DDI-A ['P62837', 'Q96FW1']\n",
      "4DDI-B ['P62837', 'Q96FW1']\n",
      "4DDI-C ['P62837', 'Q96FW1']\n",
      "4FWT-A ['P0A6P3', 'P0A6N3', 'P14647']\n",
      "4HTT-A ['O67305', 'P00720']\n",
      "4HTT-B ['O67305', 'P00720']\n",
      "4IL1-A ['P63329', 'P0DP29', 'P63100']\n",
      "4IL1-B ['P63329', 'P0DP29', 'P63100']\n",
      "4IL1-C ['P63329', 'P0DP29', 'P63100']\n",
      "4IL1-D ['P63329', 'P0DP29', 'P63100']\n",
      "4KEG-A ['P0AEX9', 'Q9NP55']\n",
      "4KVC-L ['P01634', 'P01837']\n",
      "4N4X-A ['P0AEX9', 'Q9NP55']\n",
      "4PL7-A ['Q9P4D1', 'P62328']\n",
      "4PL7-B ['Q9P4D1', 'P62328']\n",
      "4QSZ-A ['P0AEX9', 'P0C872']\n",
      "4QSZ-B ['P0AEX9', 'P0C872']\n",
      "4QVH-A ['P0AEX9', 'O33336']\n",
      "4QVH-B ['P0AEX9', 'O33336']\n",
      "4R71-A ['P0CE48', 'P0A6P1']\n",
      "4R71-C ['P0CE48', 'P0A6P1']\n",
      "4XZS-A ['P0AEX9', 'O43715']\n",
      "4XZS-B ['P0AEX9', 'O43715']\n",
      "4XZV-A ['P0AEX9', 'O43715']\n",
      "4XZV-C ['P0AEX9', 'O43715']\n",
      "4XZV-E ['P0AEX9', 'O43715']\n",
      "4XZV-G ['P0AEX9', 'O43715']\n",
      "4Y7J-A ['Q8TNK0', 'Q58584']\n",
      "4Y7J-B ['Q8TNK0', 'Q58584']\n",
      "4Y7J-C ['Q8TNK0', 'Q58584']\n",
      "4Y7J-D ['Q8TNK0', 'Q58584']\n",
      "4Y7J-E ['Q8TNK0', 'Q58584']\n",
      "4Y7K-A ['Q8TNK0', 'Q58584']\n",
      "4Y7K-B ['Q8TNK0', 'Q58584']\n",
      "4Y7K-C ['Q8TNK0', 'Q58584']\n",
      "4Y7K-D ['Q8TNK0', 'Q58584']\n",
      "4Y7K-E ['Q8TNK0', 'Q58584']\n",
      "4ZWJ-A ['P08100', 'P00720', 'P20443']\n",
      "4ZWJ-B ['P08100', 'P00720', 'P20443']\n",
      "4ZWJ-C ['P08100', 'P00720', 'P20443']\n",
      "4ZWJ-D ['P08100', 'P00720', 'P20443']\n",
      "5C6W-H ['P01704', 'A0A0B4J2H0']\n",
      "5C6W-J ['P01704', 'A0A0B4J2H0']\n",
      "5DGY-A ['P08100', 'P00720', 'P20443']\n",
      "5DGY-B ['P08100', 'P00720', 'P20443']\n",
      "5DGY-C ['P08100', 'P00720', 'P20443']\n",
      "5DGY-D ['P08100', 'P00720', 'P20443']\n",
      "5JQM-A ['O60200', 'Q05776']\n",
      "5JQM-B ['O60200', 'Q05776']\n",
      "5JQM-C ['O60200', 'Q05776']\n",
      "5NDD-A ['P00720', 'P0ABE7']\n",
      "5NDZ-A ['P00720', 'P0ABE7']\n",
      "5T6R-V ['P38861', 'A0A0F8NYV9']\n",
      "5VBA-A ['P00720', 'X7YCN8']\n",
      "5VBA-B ['P00720', 'X7YCN8']\n",
      "5VYF-C ['P30440', 'P30438']\n",
      "5VYF-F ['P30440', 'P30438']\n",
      "5W0P-A ['P08100', 'P00720', 'P20443']\n",
      "5W0P-B ['P08100', 'P00720', 'P20443']\n",
      "5W0P-C ['P08100', 'P00720', 'P20443']\n",
      "5W0P-D ['P08100', 'P00720', 'P20443']\n",
      "5Y2G-A ['P0AEX9', 'P09879']\n",
      "5ZBQ-A ['P25929', 'P00720']\n",
      "6A7U-A ['P0C5Z0', 'Q16778']\n",
      "6CC4-A ['P0AF16', 'P0ABE7']\n",
      "6CMO-R ['P08100', 'P0ABE7']\n",
      "6G7O-A ['Q9NUN7', 'P0ABE7']\n",
      "6GEL-A ['P42212', 'W5IDB2']\n",
      "6GEL-B ['P42212', 'W5IDB2']\n",
      "6GEZ-A ['P42212', 'W5IDB2']\n",
      "6GEZ-B ['P42212', 'W5IDB2']\n",
      "6HR1-A ['P0DP23', 'P42212']\n",
      "6HR1-B ['P0DP23', 'P42212']\n",
      "6I4Y-A ['P0AEX9', 'O43715']\n",
      "6IIU-A ['P00268', 'P0ABE7']\n",
      "6IIV-A ['P00268', 'P0ABE7']\n",
      "6JXR-m ['P01848', 'A0A0B4J271']\n",
      "6KEA-A ['P0AEX9', 'Q9UI95']\n",
      "6KEA-B ['P0AEX9', 'Q9UI95']\n",
      "6KEA-C ['P0AEX9', 'Q9UI95']\n",
      "6KEA-D ['P0AEX9', 'Q9UI95']\n",
      "6LW5-A ['P25090', 'P0ABE7']\n",
      "6ME6-A ['P00268', 'P0ABE7']\n",
      "6ME6-B ['P00268', 'P0ABE7']\n",
      "6ME7-A ['P00268', 'P0ABE7']\n",
      "6ME7-B ['P00268', 'P0ABE7']\n",
      "6ME8-A ['P00268', 'P0ABE7']\n",
      "6ME8-B ['P00268', 'P0ABE7']\n",
      "6ME9-A ['P00268', 'P0ABE7']\n",
      "6ME9-B ['P00268', 'P0ABE7']\n",
      "6MIJ-A ['D0CG85', 'D0C9P9']\n",
      "6RLA-A ['B0I1S0', 'E5BBQ0']\n",
      "6RLA-B ['B0I1S0', 'E5BBQ0']\n",
      "6RLB-A ['B0I1S0', 'E5BBQ0']\n",
      "6RLB-B ['B0I1S0', 'E5BBQ0']\n",
      "6SC2-A ['B0I1S0', 'E5BBQ0']\n",
      "6SC2-B ['B0I1S0', 'E5BBQ0']\n",
      "6SJV-A ['A0A376KDN7', 'P06463']\n",
      "6T58-A ['P26447', 'P07355']\n",
      "6T58-B ['P26447', 'P07355']\n",
      "6T90-K ['Q01860', 'P42212']\n",
      "6VEJ-P ['Q9I6X5', 'Q9I6X6']\n",
      "6VEJ-Q ['Q9I6X5', 'Q9I6X6']\n",
      "6VEJ-R ['Q9I6X5', 'Q9I6X6']\n",
      "6WSK-A ['P00720', 'Q5M7A7']\n",
      "6X91-A ['P41238', 'P0AEX9']\n",
      "6X91-B ['P41238', 'P0AEX9']\n",
      "6X91-C ['P41238', 'P0AEX9']\n",
      "6X91-D ['P41238', 'P0AEX9']\n",
      "6X91-E ['P41238', 'P0AEX9']\n",
      "6X91-F ['P41238', 'P0AEX9']\n",
      "6X91-G ['P41238', 'P0AEX9']\n",
      "6X91-H ['P41238', 'P0AEX9']\n",
      "6XYR-A ['P00720', 'P0DP23']\n",
      "6YOV-K ['Q01860', 'P42212']\n",
      "6YTT-B ['U5RTE2', 'U5RSY1']\n",
      "6YTT-C ['U5RTE2', 'U5RSY1']\n",
      "6YU9-A ['U5RTE2', 'U5RSY1']\n",
      "6YU9-B ['U5RTE2', 'U5RSY1']\n",
      "6YU9-C ['U5RTE2', 'U5RSY1']\n",
      "6YU9-D ['U5RTE2', 'U5RSY1']\n",
      "6YUA-B ['U5RTE2', 'U5RSY1']\n",
      "6YUA-C ['U5RTE2', 'U5RSY1']\n",
      "6ZNG-A ['Q6MM14', 'Q6MM15']\n",
      "6ZNG-B ['Q6MM14', 'Q6MM15']\n",
      "6ZNG-C ['Q6MM14', 'Q6MM15']\n",
      "6ZNG-D ['Q6MM14', 'Q6MM15']\n",
      "6ZNG-E ['Q6MM14', 'Q6MM15']\n",
      "6ZNG-F ['Q6MM14', 'Q6MM15']\n",
      "6ZNJ-A ['Q6MM14', 'Q6MM15']\n",
      "6ZNJ-B ['Q6MM14', 'Q6MM15']\n",
      "6ZNJ-C ['Q6MM14', 'Q6MM15']\n",
      "7A20-A ['P00929', 'P0A2K1']\n",
      "7A20-B ['P00929', 'P0A2K1']\n",
      "7A20-C ['P00929', 'P0A2K1']\n",
      "7A20-D ['P00929', 'P0A2K1']\n",
      "7ASP-1 ['W8UVN7', 'A0A077V2P0']\n",
      "7ASP-A ['W8UVN7', 'A0A077V2P0']\n",
      "7BW0-R ['Q8TDU6', 'P0ABE7']\n",
      "7BYL-A ['P56696', 'P42212']\n",
      "7BYL-C ['P56696', 'P42212']\n",
      "7BYL-E ['P56696', 'P42212']\n",
      "7BYL-G ['P56696', 'P42212']\n",
      "7BYM-A ['P56696', 'P42212']\n",
      "7BYM-C ['P56696', 'P42212']\n",
      "7BYM-E ['P56696', 'P42212']\n",
      "7BYM-G ['P56696', 'P42212']\n",
      "7BYN-A ['P56696', 'P42212']\n",
      "7BYN-C ['P56696', 'P42212']\n",
      "7BYN-E ['P56696', 'P42212']\n",
      "7BYN-G ['P56696', 'P42212']\n",
      "7CMU-R ['P35462', 'P0ABE7']\n",
      "7CMV-R ['P35462', 'P0ABE7']\n",
      "7CY4-A ['A0A2K3D5Z7', 'P0AEX9']\n",
      "7CY5-A ['A0A2K3D5Z7', 'P0AEX9']\n",
      "7CY6-A ['A0A2K3D5Z7', 'P0AEX9']\n",
      "7CY7-A ['A0A2K3D5Z7', 'P0AEX9']\n",
      "7CY8-A ['A0A2K3D5Z7', 'P0AEX9']\n",
      "7DD9-A ['Q9UT61', 'P0AEX9']\n",
      "7DD9-C ['Q9UT61', 'P0AEX9']\n",
      "7DD9-E ['Q9UT61', 'P0AEX9']\n",
      "7DD9-G ['Q9UT61', 'P0AEX9']\n",
      "7DDE-A ['O36014', 'P0AEX9']\n",
      "7DDE-C ['O36014', 'P0AEX9']\n",
      "7DDE-E ['O36014', 'P0AEX9']\n",
      "7DDE-G ['O36014', 'P0AEX9']\n",
      "7DDE-I ['O36014', 'P0AEX9']\n",
      "7DDE-K ['O36014', 'P0AEX9']\n",
      "7DDE-M ['O36014', 'P0AEX9']\n",
      "7DDE-O ['O36014', 'P0AEX9']\n",
      "7DDE-Q ['O36014', 'P0AEX9']\n",
      "7DDE-S ['O36014', 'P0AEX9']\n",
      "7DDE-V ['O36014', 'P0AEX9']\n",
      "7DDE-X ['O36014', 'P0AEX9']\n",
      "7E2X-R ['P08908', 'P0ABE7']\n",
      "7E2Y-R ['P08908', 'P0ABE7']\n",
      "7E2Z-R ['P08908', 'P0ABE7']\n",
      "7E32-R ['P28221', 'P0ABE7']\n",
      "7E33-R ['P28566', 'P0ABE7']\n",
      "7EPD-A ['Q14416', 'P62942']\n",
      "7ESG-A ['Q5V0B3', 'P08515']\n",
      "7EXD-R ['P30939', 'P0ABE7']\n",
      "7F1Q-R ['P51681', 'P10147']\n",
      "7F1R-R ['P51681', 'P13501']\n",
      "7F1T-A ['P00268', 'P10147']\n",
      "7F4D-R ['Q01726', 'P0ABE7']\n",
      "7F4F-R ['Q01726', 'P0ABE7']\n",
      "7F4H-R ['Q01726', 'P0ABE7']\n",
      "7F4I-R ['Q01726', 'P0ABE7']\n",
      "7F9Y-R ['Q92847', 'P0ABE7']\n",
      "7F9Z-R ['Q92847', 'P0ABE7']\n",
      "7FHK-A ['Q94KI8', 'P42212']\n",
      "7FHK-C ['Q94KI8', 'P42212']\n",
      "7FHL-A ['Q94KI8', 'P42212']\n",
      "7FHL-C ['Q94KI8', 'P42212']\n",
      "7FHN-A ['Q94KI8', 'P42212']\n",
      "7FHN-C ['Q94KI8', 'P42212']\n",
      "7FHO-A ['Q94KI8', 'P42212']\n",
      "7FHO-C ['Q94KI8', 'P42212']\n",
      "7JVR-R ['P14416', 'P0ABE7']\n",
      "7LTO-B ['P40026', 'Q12306']\n",
      "7NMI-B ['P25815', 'P07355']\n",
      "7NT8-A ['P03467', 'P08515']\n",
      "7NT8-B ['P03467', 'P08515']\n",
      "7O2W-A ['Q96LT7', 'Q12306']\n",
      "7O42-A ['A8R751', 'Q9I747']\n",
      "7O42-B ['A8R751', 'Q9I747']\n",
      "7O42-C ['A8R751', 'Q9I747']\n",
      "7O42-D ['A8R751', 'Q9I747']\n",
      "7O42-E ['A8R751', 'Q9I747']\n",
      "7O42-F ['A8R751', 'Q9I747']\n",
      "7P7I-AAA ['R8APY9', 'Q12306']\n",
      "7P7I-BBB ['R8APY9', 'Q12306']\n",
      "7P7W-AAA ['R8APY9', 'Q12306']\n",
      "7P7W-BBB ['R8APY9', 'Q12306']\n",
      "7P9L-AAA ['R8APY9', 'Q12306']\n",
      "7P9L-BBB ['R8APY9', 'Q12306']\n",
      "7P9P-AAA ['R8APY9', 'Q12306']\n",
      "7P9P-BBB ['R8APY9', 'Q12306']\n",
      "7P9Y-AAA ['R8APY9', 'Q12306']\n",
      "7P9Y-BBB ['R8APY9', 'Q12306']\n",
      "7PA1-AAA ['R8APY9', 'Q12306']\n",
      "7PA1-BBB ['R8APY9', 'Q12306']\n",
      "7R3E-A ['P54292', 'P20581']\n",
      "7R3E-B ['P54292', 'P20581']\n",
      "7RW6-A ['P03190', 'P0AEX9']\n",
      "7RW6-C ['P03190', 'P0AEX9']\n",
      "7S8M-R ['Q96LB1', 'P0ABE7']\n",
      "7S8O-R ['Q96LB1', 'P0ABE7']\n",
      "7S8P-R ['Q96LA9', 'P0ABE7']\n",
      "7SDE-B ['P40026', 'Q12306']\n",
      "7SSV-A ['P22001', 'P42212']\n",
      "7SSV-B ['P22001', 'P42212']\n",
      "7SSV-C ['P22001', 'P42212']\n",
      "7SSV-D ['P22001', 'P42212']\n",
      "7SSX-A ['P22001', 'P42212']\n",
      "7SSX-B ['P22001', 'P42212']\n",
      "7SSX-C ['P22001', 'P42212']\n",
      "7SSX-D ['P22001', 'P42212']\n",
      "7SSY-A ['P22001', 'P42212']\n",
      "7SSY-B ['P22001', 'P42212']\n",
      "7SSY-C ['P22001', 'P42212']\n",
      "7SSY-D ['P22001', 'P42212']\n",
      "7SSZ-A ['P22001', 'P42212']\n",
      "7SSZ-B ['P22001', 'P42212']\n",
      "7SSZ-C ['P22001', 'P42212']\n",
      "7SSZ-D ['P22001', 'P42212']\n",
      "7SUN-A ['Q9JKQ2', 'P42212']\n",
      "7SUN-B ['Q9JKQ2', 'P42212']\n",
      "7UAJ-A ['P0AEX9', 'P03126']\n",
      "7UAJ-B ['P0AEX9', 'P03126']\n",
      "7UAJ-C ['P0AEX9', 'P03126']\n",
      "7UAJ-D ['P0AEX9', 'P03126']\n",
      "7UN3-A ['Q9C0C9', 'P62917']\n",
      "7UN3-D ['Q9C0C9', 'P62917']\n",
      "7VBY-B ['O96008', 'Q15388']\n",
      "7VBY-I ['O96008', 'Q15388']\n",
      "7VGQ-B ['P0AEX9', 'Q6IUF9']\n",
      "7VH1-B ['P0AEX9', 'Q6IUF9']\n",
      "7VQO-A ['P0AEX9', 'G0SGP6']\n",
      "7VQO-B ['P0AEX9', 'G0SGP6']\n",
      "7VQO-C ['P0AEX9', 'G0SGP6']\n",
      "7VQO-D ['P0AEX9', 'G0SGP6']\n",
      "7VUG-R ['P09850', 'Q6DWJ6']\n",
      "7VUH-R ['P09850', 'Q6DWJ6']\n",
      "7VUI-R ['P09850', 'Q6DWJ6']\n",
      "7VUJ-R ['P09850', 'Q6DWJ6']\n",
      "7W53-R ['Q9HB89', 'P0ABE7']\n",
      "7W55-R ['Q9GZQ4', 'P0ABE7']\n",
      "7W56-R ['Q9HB89', 'P0ABE7']\n",
      "7W57-R ['Q9GZQ4', 'P0ABE7']\n",
      "7WJ5-R ['P30874', 'P0ABE7']\n",
      "7WVV-R ['P25090', 'P0ABE7']\n",
      "7WVW-R ['P25090', 'P0ABE7']\n",
      "7WVX-R ['P25090', 'P0ABE7']\n",
      "7WVY-R ['P25090', 'P0ABE7']\n",
      "7X5H-R ['P47898', 'P0ABE7']\n",
      "7XQC-A ['P0AEX9', 'P9WFM7']\n",
      "7XQC-B ['P0AEX9', 'P9WFM7']\n",
      "7XQC-C ['P0AEX9', 'P9WFM7']\n",
      "7XQC-D ['P0AEX9', 'P9WFM7']\n",
      "7XQK-A ['P08515', 'Q00526']\n",
      "7XT8-R ['Q13639', 'P0ABE7']\n",
      "7XT9-R ['Q13639', 'P0ABE7']\n",
      "7XTA-R ['Q13639', 'P0ABE7']\n",
      "7XTB-R ['P50406', 'P0ABE7']\n",
      "7XTC-R ['P34969', 'P0ABE7']\n",
      "7XY6-R ['P29275', 'P0ABE7']\n",
      "7XY7-R ['P29275', 'P0ABE7']\n",
      "7XZ5-R ['Q8TDV5', 'P0ABE7']\n",
      "7XZ6-R ['Q8TDV5', 'P0ABE7']\n",
      "7Y12-R ['Q8TDS7', 'P0ABE7']\n",
      "7Y13-R ['Q8TDS7', 'P0ABE7']\n",
      "7Y14-R ['Q8TDS7', 'P0ABE7']\n",
      "7Y15-R ['Q8TDS7', 'P0ABE7']\n",
      "7Y5Q-A ['Q13219', 'P0AEX9']\n",
      "7Y5Q-B ['Q13219', 'P0AEX9']\n",
      "7Z6H-B ['O60671', 'O75943']\n",
      "7Z6H-K ['O60671', 'O75943']\n",
      "7ZL9-A ['Q8TDS4', 'P0ABE7']\n",
      "8AG0-B ['P0AEX9', 'O43715']\n",
      "8AMQ-A ['O53937', 'P9WPL3']\n",
      "8DD7-A ['O77059', 'E5BBQ0']\n",
      "8DD7-B ['P49021', 'E5BBQ0']\n",
      "8DFL-A ['P22001', 'P42212']\n",
      "8DFL-B ['P22001', 'P42212']\n",
      "8DFL-C ['P22001', 'P42212']\n",
      "8DFL-D ['P22001', 'P42212']\n",
      "8E0P-A ['C3SHQ8', 'Q3U128']\n",
      "8E0P-B ['C3SHQ8', 'Q3U128']\n",
      "8E0P-C ['C3SHQ8', 'Q3U128']\n",
      "8E0P-D ['C3SHQ8', 'Q3U128']\n",
      "8EIT-R ['O14842', 'P00720']\n",
      "8FNE-A ['P0AEX9', 'F8SJT5']\n",
      "8FNE-B ['P0AEX9', 'F8SJT5']\n",
      "8FNE-C ['P0AEX9', 'F8SJT5']\n",
      "8FNE-D ['P0AEX9', 'F8SJT5']\n",
      "8FNE-E ['P0AEX9', 'F8SJT5']\n",
      "8FNE-F ['P0AEX9', 'F8SJT5']\n",
      "8FNE-G ['P0AEX9', 'F8SJT5']\n",
      "8FNE-H ['P0AEX9', 'F8SJT5']\n",
      "8FV5-A ['P0AEX9', 'F8SJT5']\n",
      "8FV5-B ['P0AEX9', 'F8SJT5']\n",
      "8FV5-C ['P0AEX9', 'F8SJT5']\n",
      "8FV5-D ['P0AEX9', 'F8SJT5']\n",
      "8FV5-E ['P0AEX9', 'F8SJT5']\n",
      "8FV5-F ['P0AEX9', 'F8SJT5']\n",
      "8FV5-G ['P0AEX9', 'F8SJT5']\n",
      "8FV5-H ['P0AEX9', 'F8SJT5']\n",
      "8FV5-I ['P0AEX9', 'F8SJT5']\n",
      "8FV5-J ['P0AEX9', 'F8SJT5']\n",
      "8FV5-K ['P0AEX9', 'F8SJT5']\n",
      "8FV5-L ['P0AEX9', 'F8SJT5']\n",
      "8FV5-M ['P0AEX9', 'F8SJT5']\n",
      "8FV5-N ['P0AEX9', 'F8SJT5']\n",
      "8FV5-O ['P0AEX9', 'F8SJT5']\n",
      "8FV5-P ['P0AEX9', 'F8SJT5']\n",
      "8FV5-Q ['P0AEX9', 'F8SJT5']\n",
      "8FV5-R ['P0AEX9', 'F8SJT5']\n",
      "8FV5-S ['P0AEX9', 'F8SJT5']\n",
      "8FV5-T ['P0AEX9', 'F8SJT5']\n",
      "8FV5-U ['P0AEX9', 'F8SJT5']\n",
      "8FV5-V ['P0AEX9', 'F8SJT5']\n",
      "8FV5-W ['P0AEX9', 'F8SJT5']\n",
      "8FV5-X ['P0AEX9', 'F8SJT5']\n",
      "8FV5-Y ['P0AEX9', 'F8SJT5']\n",
      "8FV5-Z ['P0AEX9', 'F8SJT5']\n",
      "8FV5-a ['P0AEX9', 'F8SJT5']\n",
      "8FV5-b ['P0AEX9', 'F8SJT5']\n",
      "8FV5-c ['P0AEX9', 'F8SJT5']\n",
      "8FV5-d ['P0AEX9', 'F8SJT5']\n",
      "8FV5-e ['P0AEX9', 'F8SJT5']\n",
      "8FV5-f ['P0AEX9', 'F8SJT5']\n",
      "8GY7-R ['Q01718', 'P0ABE7']\n",
      "8HGH-A ['Q13219', 'P0AEX9']\n",
      "8HGH-B ['Q13219', 'P0AEX9']\n",
      "8HII-A ['P41440', 'P0ABE7']\n",
      "8HIJ-A ['P41440', 'P0ABE7']\n",
      "8HIK-A ['P41440', 'P0ABE7']\n",
      "8HJ5-F ['Q96LB2', 'P0ABE7']\n",
      "8HSC-R ['Q99678', 'P0ABE7']\n",
      "8IBU-R ['O43193', 'P0ABE7']\n",
      "8IBV-R ['O43193', 'P0ABE7']\n",
      "8IK0-A ['Q9HYC4', 'E1C7U0']\n",
      "8IK0-B ['Q9HYC4', 'E1C7U0']\n",
      "8IK0-C ['Q9HYC4', 'E1C7U0']\n",
      "8IK0-D ['Q9HYC4', 'E1C7U0']\n",
      "8IK0-E ['Q9HYC4', 'E1C7U0']\n",
      "8IK0-F ['Q9HYC4', 'E1C7U0']\n",
      "8IK0-G ['Q9HYC4', 'E1C7U0']\n",
      "8IK0-H ['Q9HYC4', 'E1C7U0']\n",
      "8IK3-A ['Q9HYC4', 'Q86WV6']\n",
      "8IK3-B ['Q9HYC4', 'Q86WV6']\n",
      "8IK3-C ['Q9HYC4', 'Q86WV6']\n",
      "8IK3-D ['Q9HYC4', 'Q86WV6']\n",
      "8IK3-E ['Q9HYC4', 'Q86WV6']\n",
      "8IK3-F ['Q9HYC4', 'Q86WV6']\n",
      "8IK3-G ['Q9HYC4', 'Q86WV6']\n",
      "8IK3-H ['Q9HYC4', 'Q86WV6']\n",
      "8IRS-R ['P14416', 'P0ABE7']\n",
      "8IRT-R ['P35462', 'P0ABE7']\n",
      "8IRV-R ['P21918', 'P0ABE7']\n",
      "8JCU-2 ['Q14416', 'P62942']\n",
      "8JCW-2 ['Q14416', 'P62942']\n",
      "8JCX-2 ['Q14416', 'P62942']\n",
      "8JCY-2 ['Q14416', 'P62942']\n",
      "8JCZ-2 ['Q14416', 'P62942']\n",
      "8JD0-2 ['Q14416', 'P62942']\n",
      "8JD1-2 ['Q14416', 'P62942']\n",
      "8JD2-2 ['Q14416', 'P62942']\n",
      "8JD4-2 ['Q14416', 'P62942']\n",
      "8SEN-E ['P08515', 'P68106']\n",
      "8SEN-F ['P08515', 'P68106']\n",
      "8SEN-G ['P08515', 'P68106']\n",
      "8SEN-H ['P08515', 'P68106']\n",
      "8SEO-E ['P08515', 'P68106']\n",
      "8SEO-F ['P08515', 'P68106']\n",
      "8SEO-G ['P08515', 'P68106']\n",
      "8SEO-H ['P08515', 'P68106']\n",
      "8SEP-E ['P08515', 'P68106']\n",
      "8SEP-F ['P08515', 'P68106']\n",
      "8SEP-G ['P08515', 'P68106']\n",
      "8SEP-H ['P08515', 'P68106']\n",
      "8SEQ-E ['P08515', 'P68106']\n",
      "8SEQ-F ['P08515', 'P68106']\n",
      "8SEQ-G ['P08515', 'P68106']\n",
      "8SEQ-H ['P08515', 'P68106']\n",
      "8SER-E ['P08515', 'P68106']\n",
      "8SER-F ['P08515', 'P68106']\n",
      "8SER-G ['P08515', 'P68106']\n",
      "8SER-H ['P08515', 'P68106']\n",
      "8SES-E ['P08515', 'P68106']\n",
      "8SES-F ['P08515', 'P68106']\n",
      "8SES-G ['P08515', 'P68106']\n",
      "8SES-H ['P08515', 'P68106']\n",
      "8SET-E ['P08515', 'P68106']\n",
      "8SET-F ['P08515', 'P68106']\n",
      "8SET-G ['P08515', 'P68106']\n",
      "8SET-H ['P08515', 'P68106']\n",
      "8SOJ-A ['P0AEY0', 'Q2NKJ3']\n",
      "8SOK-A ['P0AEY0', 'Q2NKJ3']\n"
     ]
    }
   ],
   "source": [
    "for key, value in go_uniprot_dic.items():\n",
    "    if len(value) > 1:\n",
    "        print(key, value)"
   ]
  },
  {
   "cell_type": "code",
   "execution_count": null,
   "metadata": {},
   "outputs": [],
   "source": [
    "go_uniprots = {}\n",
    "for go in go_tsv:\n",
    "    pdbid = go[0]\n",
    "    go_uniprots[pdbid] = go_uniprot_dic[pdbid]"
   ]
  },
  {
   "cell_type": "code",
   "execution_count": null,
   "metadata": {},
   "outputs": [],
   "source": [
    "with open('../output_info/go_uniprots.json', 'w') as f:\n",
    "    json.dump(go_uniprots, f)"
   ]
  },
  {
   "cell_type": "code",
   "execution_count": null,
   "metadata": {},
   "outputs": [
    {
     "data": {
      "text/plain": [
       "{'PDB': '101m',\n",
       " 'CHAIN': 'A',\n",
       " 'uniprot': 'P02185',\n",
       " 'GO_ID': 'GO:0046872',\n",
       " 'EVIDENCE': 'IEA'}"
      ]
     },
     "execution_count": 31,
     "metadata": {},
     "output_type": "execute_result"
    }
   ],
   "source": [
    "pdb_chain_go_rows[0]"
   ]
  },
  {
   "cell_type": "code",
   "execution_count": 4,
   "metadata": {},
   "outputs": [],
   "source": [
    "pdb_chain_uniprots = {}\n",
    "for row in pdb_chain_go_rows:\n",
    "    pdb_chain = row['PDB'].upper() + '-' + row['CHAIN']\n",
    "    if pdb_chain in pdb_chain_uniprots.keys():\n",
    "        pdb_chain_uniprots[pdb_chain][row['CHAIN']] = row['uniprot']\n",
    "    else:\n",
    "        pdb_chain_uniprots[pdb_chain] = {}\n",
    "        pdb_chain_uniprots[pdb_chain][row['CHAIN']] = row['uniprot']"
   ]
  },
  {
   "cell_type": "code",
   "execution_count": 5,
   "metadata": {},
   "outputs": [
    {
     "name": "stdout",
     "output_type": "stream",
     "text": [
      "323404\n"
     ]
    }
   ],
   "source": [
    "ec_rows = []\n",
    "with codecs.open('../data/EC/pdb_chain_enzyme.csv', encoding='utf-8') as f:\n",
    "    for row in csv.DictReader(f, skipinitialspace=True):\n",
    "        ec_rows.append(row)\n",
    "print(len(ec_rows))"
   ]
  },
  {
   "cell_type": "code",
   "execution_count": 6,
   "metadata": {},
   "outputs": [
    {
     "data": {
      "text/plain": [
       "{'PDB': '102l', 'CHAIN': 'A', 'ACCESSION': 'P00720', 'EC_NUMBER': '3.2.1.17'}"
      ]
     },
     "execution_count": 6,
     "metadata": {},
     "output_type": "execute_result"
    }
   ],
   "source": [
    "ec_rows[0]"
   ]
  },
  {
   "cell_type": "code",
   "execution_count": 7,
   "metadata": {},
   "outputs": [
    {
     "name": "stderr",
     "output_type": "stream",
     "text": [
      "  7%|▋         | 22555/323404 [00:00<00:01, 225524.41it/s]"
     ]
    },
    {
     "name": "stdout",
     "output_type": "stream",
     "text": [
      "{'PDB': '1ir1', 'CHAIN': 'A', 'ACCESSION': 'P00875', 'EC_NUMBER': '4.1.1.39'}\n",
      "{'PDB': '1ir1', 'CHAIN': 'B', 'ACCESSION': 'P00875', 'EC_NUMBER': '4.1.1.39'}\n",
      "{'PDB': '1ir1', 'CHAIN': 'C', 'ACCESSION': 'P00875', 'EC_NUMBER': '4.1.1.39'}\n",
      "{'PDB': '1ir1', 'CHAIN': 'D', 'ACCESSION': 'P00875', 'EC_NUMBER': '4.1.1.39'}\n"
     ]
    },
    {
     "name": "stderr",
     "output_type": "stream",
     "text": [
      "100%|██████████| 323404/323404 [00:00<00:00, 333782.25it/s]\n"
     ]
    }
   ],
   "source": [
    "for row in tqdm(ec_rows):\n",
    "    if row['PDB'] == '1ir1':\n",
    "        print(row)\n",
    "    pdb_chain = row['PDB'].upper() + '-' + row['CHAIN']\n",
    "    if pdb_chain in pdb_chain_uniprots.keys():\n",
    "        pdb_chain_uniprots[pdb_chain][row['CHAIN']] = row['ACCESSION']\n",
    "    else:\n",
    "        pdb_chain_uniprots[pdb_chain] = {}\n",
    "        pdb_chain_uniprots[pdb_chain][row['CHAIN']] = row['ACCESSION']"
   ]
  },
  {
   "cell_type": "code",
   "execution_count": 8,
   "metadata": {},
   "outputs": [],
   "source": [
    "import json\n",
    "with open('../data/ProtFunc/uniformed_labels.json') as f:\n",
    "    protfun_dic = json.load(f)"
   ]
  },
  {
   "cell_type": "code",
   "execution_count": 11,
   "metadata": {},
   "outputs": [
    {
     "name": "stderr",
     "output_type": "stream",
     "text": [
      " 95%|█████████▌| 35695/37400 [00:00<00:00, 179570.62it/s]"
     ]
    },
    {
     "name": "stdout",
     "output_type": "stream",
     "text": [
      "5JN1-A {'uniprots': [], ',ec': [-1], 'reaction': [[178]], 'go': [-1], 'ppi': -1, 'lba': -1}\n",
      "5IOL-D {'uniprots': [], ',ec': [-1], 'reaction': [[83]], 'go': [-1], 'ppi': -1, 'lba': -1}\n",
      "5IOL-A {'uniprots': [], ',ec': [-1], 'reaction': [[83]], 'go': [-1], 'ppi': -1, 'lba': -1}\n",
      "5IOL-C {'uniprots': [], ',ec': [-1], 'reaction': [[83]], 'go': [-1], 'ppi': -1, 'lba': -1}\n",
      "5IOL-K {'uniprots': [], ',ec': [-1], 'reaction': [[83]], 'go': [-1], 'ppi': -1, 'lba': -1}\n",
      "5IOM-A {'uniprots': [], ',ec': [-1], 'reaction': [[83]], 'go': [-1], 'ppi': -1, 'lba': -1}\n",
      "4IQQ-A {'uniprots': [], ',ec': [-1], 'reaction': [[238]], 'go': [-1], 'ppi': -1, 'lba': -1}\n",
      "4IQQ-C {'uniprots': [], ',ec': [-1], 'reaction': [[238]], 'go': [-1], 'ppi': -1, 'lba': -1}\n",
      "5URR-D {'uniprots': [], ',ec': [-1], 'reaction': [[235]], 'go': [-1], 'ppi': -1, 'lba': -1}\n",
      "5BYH-B {'uniprots': [], ',ec': [-1], 'reaction': [[48]], 'go': [-1], 'ppi': -1, 'lba': -1}\n",
      "4WTO-A {'uniprots': [], ',ec': [-1], 'reaction': [[251]], 'go': [-1], 'ppi': -1, 'lba': -1}\n",
      "4ROR-A {'uniprots': [], ',ec': [-1], 'reaction': [[308]], 'go': [-1], 'ppi': -1, 'lba': -1}\n",
      "5BYH-C {'uniprots': [], ',ec': [-1], 'reaction': [[48]], 'go': [-1], 'ppi': -1, 'lba': -1}\n",
      "4MQ6-B {'uniprots': [], ',ec': [-1], 'reaction': [[347]], 'go': [-1], 'ppi': -1, 'lba': -1}\n",
      "2IKC-B {'uniprots': [], ',ec': [-1], 'reaction': [[53]], 'go': [-1], 'ppi': -1, 'lba': -1}\n",
      "3R5Q-A {'uniprots': [], ',ec': [-1], 'reaction': [[53]], 'go': [-1], 'ppi': -1, 'lba': -1}\n",
      "2IKC-A {'uniprots': [], ',ec': [-1], 'reaction': [[53]], 'go': [-1], 'ppi': -1, 'lba': -1}\n",
      "6J9T-D {'uniprots': [], ',ec': [-1], 'reaction': [[268]], 'go': [-1], 'ppi': -1, 'lba': -1}\n",
      "6J9U-E {'uniprots': [], ',ec': [-1], 'reaction': [[268]], 'go': [-1], 'ppi': -1, 'lba': -1}\n",
      "6J9T-E {'uniprots': [], ',ec': [-1], 'reaction': [[268]], 'go': [-1], 'ppi': -1, 'lba': -1}\n",
      "6J9S-E {'uniprots': [], ',ec': [-1], 'reaction': [[268]], 'go': [-1], 'ppi': -1, 'lba': -1}\n",
      "6J9S-A {'uniprots': [], ',ec': [-1], 'reaction': [[268]], 'go': [-1], 'ppi': -1, 'lba': -1}\n",
      "6J9T-F {'uniprots': [], ',ec': [-1], 'reaction': [[268]], 'go': [-1], 'ppi': -1, 'lba': -1}\n",
      "6J9S-F {'uniprots': [], ',ec': [-1], 'reaction': [[268]], 'go': [-1], 'ppi': -1, 'lba': -1}\n",
      "6J9S-B {'uniprots': [], ',ec': [-1], 'reaction': [[268]], 'go': [-1], 'ppi': -1, 'lba': -1}\n",
      "6FED-B {'uniprots': [], ',ec': [-1], 'reaction': [[48]], 'go': [-1], 'ppi': -1, 'lba': -1}\n",
      "6FED-A {'uniprots': [], ',ec': [-1], 'reaction': [[48]], 'go': [-1], 'ppi': -1, 'lba': -1}\n",
      "6IHZ-A {'uniprots': [], ',ec': [-1], 'reaction': [[84]], 'go': [-1], 'ppi': -1, 'lba': -1}\n",
      "6IHZ-B {'uniprots': [], ',ec': [-1], 'reaction': [[84]], 'go': [-1], 'ppi': -1, 'lba': -1}\n",
      "5CXQ-A {'uniprots': [], ',ec': [-1], 'reaction': [[323]], 'go': [-1], 'ppi': -1, 'lba': -1}\n",
      "6PO4-E {'uniprots': [], ',ec': [-1], 'reaction': [[311]], 'go': [-1], 'ppi': -1, 'lba': -1}\n",
      "6PO4-D {'uniprots': [], ',ec': [-1], 'reaction': [[311]], 'go': [-1], 'ppi': -1, 'lba': -1}\n",
      "6PO4-C {'uniprots': [], ',ec': [-1], 'reaction': [[311]], 'go': [-1], 'ppi': -1, 'lba': -1}\n",
      "6PO4-F {'uniprots': [], ',ec': [-1], 'reaction': [[311]], 'go': [-1], 'ppi': -1, 'lba': -1}\n",
      "6PO4-A {'uniprots': [], ',ec': [-1], 'reaction': [[311]], 'go': [-1], 'ppi': -1, 'lba': -1}\n",
      "6G7T-A {'uniprots': [], ',ec': [-1], 'reaction': [[13]], 'go': [-1], 'ppi': -1, 'lba': -1}\n",
      "6G7V-A {'uniprots': [], ',ec': [-1], 'reaction': [[13]], 'go': [-1], 'ppi': -1, 'lba': -1}\n",
      "6G7S-A {'uniprots': [], ',ec': [-1], 'reaction': [[13]], 'go': [-1], 'ppi': -1, 'lba': -1}\n",
      "6FED-E {'uniprots': [], ',ec': [-1], 'reaction': [[48]], 'go': [-1], 'ppi': -1, 'lba': -1}\n",
      "6FED-D {'uniprots': [], ',ec': [-1], 'reaction': [[48]], 'go': [-1], 'ppi': -1, 'lba': -1}\n",
      "6FED-C {'uniprots': [], ',ec': [-1], 'reaction': [[48]], 'go': [-1], 'ppi': -1, 'lba': -1}\n",
      "5IUN-A {'uniprots': [], ',ec': [-1], 'reaction': [[233]], 'go': [-1], 'ppi': -1, 'lba': -1}\n",
      "5IUN-E {'uniprots': [], ',ec': [-1], 'reaction': [[233]], 'go': [-1], 'ppi': -1, 'lba': -1}\n",
      "5IUN-B {'uniprots': [], ',ec': [-1], 'reaction': [[233]], 'go': [-1], 'ppi': -1, 'lba': -1}\n",
      "5UI3-A {'uniprots': [], ',ec': [-1], 'reaction': [[165]], 'go': [-1], 'ppi': -1, 'lba': -1}\n",
      "5UI3-B {'uniprots': [], ',ec': [-1], 'reaction': [[165]], 'go': [-1], 'ppi': -1, 'lba': -1}\n",
      "5UI3-D {'uniprots': [], ',ec': [-1], 'reaction': [[165]], 'go': [-1], 'ppi': -1, 'lba': -1}\n",
      "5UI3-C {'uniprots': [], ',ec': [-1], 'reaction': [[165]], 'go': [-1], 'ppi': -1, 'lba': -1}\n",
      "6Q89-A {'uniprots': [], ',ec': [-1], 'reaction': [[167]], 'go': [-1], 'ppi': -1, 'lba': -1}\n",
      "6Q8B-A {'uniprots': [], ',ec': [-1], 'reaction': [[167]], 'go': [-1], 'ppi': -1, 'lba': -1}\n",
      "6Q8C-A {'uniprots': [], ',ec': [-1], 'reaction': [[167]], 'go': [-1], 'ppi': -1, 'lba': -1}\n",
      "5VT3-B {'uniprots': [], ',ec': [-1], 'reaction': [[299]], 'go': [-1], 'ppi': -1, 'lba': -1}\n",
      "6FMU-A {'uniprots': [], ',ec': [-1], 'reaction': [[299]], 'go': [-1], 'ppi': -1, 'lba': -1}\n",
      "6FTC-A {'uniprots': [], ',ec': [-1], 'reaction': [[299]], 'go': [-1], 'ppi': -1, 'lba': -1}\n",
      "6FMZ-A {'uniprots': [], ',ec': [-1], 'reaction': [[299]], 'go': [-1], 'ppi': -1, 'lba': -1}\n",
      "6FP4-A {'uniprots': [], ',ec': [-1], 'reaction': [[299]], 'go': [-1], 'ppi': -1, 'lba': -1}\n",
      "1BVS-D {'uniprots': [], ',ec': [-1], 'reaction': [[243]], 'go': [-1], 'ppi': -1, 'lba': -1}\n",
      "1BVS-A {'uniprots': [], ',ec': [-1], 'reaction': [[243]], 'go': [-1], 'ppi': -1, 'lba': -1}\n",
      "1BVS-C {'uniprots': [], ',ec': [-1], 'reaction': [[243]], 'go': [-1], 'ppi': -1, 'lba': -1}\n",
      "1BVS-E {'uniprots': [], ',ec': [-1], 'reaction': [[243]], 'go': [-1], 'ppi': -1, 'lba': -1}\n",
      "1BVS-H {'uniprots': [], ',ec': [-1], 'reaction': [[243]], 'go': [-1], 'ppi': -1, 'lba': -1}\n",
      "5HBG-B {'uniprots': [], ',ec': [-1], 'reaction': [[70]], 'go': [-1], 'ppi': -1, 'lba': -1}\n",
      "5HBG-A {'uniprots': [], ',ec': [-1], 'reaction': [[70]], 'go': [-1], 'ppi': -1, 'lba': -1}\n",
      "3H83-C {'uniprots': [], ',ec': [-1], 'reaction': [[361]], 'go': [-1], 'ppi': -1, 'lba': -1}\n",
      "3H83-B {'uniprots': [], ',ec': [-1], 'reaction': [[361]], 'go': [-1], 'ppi': -1, 'lba': -1}\n",
      "3H83-A {'uniprots': [], ',ec': [-1], 'reaction': [[361]], 'go': [-1], 'ppi': -1, 'lba': -1}\n",
      "4UCF-A {'uniprots': [], ',ec': [-1], 'reaction': [[6]], 'go': [-1], 'ppi': -1, 'lba': -1}\n",
      "4UZS-B {'uniprots': [], ',ec': [-1], 'reaction': [[6]], 'go': [-1], 'ppi': -1, 'lba': -1}\n",
      "4UZS-C {'uniprots': [], ',ec': [-1], 'reaction': [[6]], 'go': [-1], 'ppi': -1, 'lba': -1}\n",
      "4UZS-A {'uniprots': [], ',ec': [-1], 'reaction': [[6]], 'go': [-1], 'ppi': -1, 'lba': -1}\n",
      "4UCF-C {'uniprots': [], ',ec': [-1], 'reaction': [[6]], 'go': [-1], 'ppi': -1, 'lba': -1}\n",
      "5VE2-A {'uniprots': [], ',ec': [-1], 'reaction': [[204]], 'go': [-1], 'ppi': -1, 'lba': -1}\n",
      "5VE2-F {'uniprots': [], ',ec': [-1], 'reaction': [[204]], 'go': [-1], 'ppi': -1, 'lba': -1}\n",
      "5VE2-I {'uniprots': [], ',ec': [-1], 'reaction': [[204]], 'go': [-1], 'ppi': -1, 'lba': -1}\n",
      "5VE2-B {'uniprots': [], ',ec': [-1], 'reaction': [[204]], 'go': [-1], 'ppi': -1, 'lba': -1}\n",
      "5VE2-H {'uniprots': [], ',ec': [-1], 'reaction': [[204]], 'go': [-1], 'ppi': -1, 'lba': -1}\n",
      "5FAR-H {'uniprots': [], ',ec': [-1], 'reaction': [[170]], 'go': [-1], 'ppi': -1, 'lba': -1}\n",
      "5FAR-C {'uniprots': [], ',ec': [-1], 'reaction': [[170]], 'go': [-1], 'ppi': -1, 'lba': -1}\n",
      "5FAR-A {'uniprots': [], ',ec': [-1], 'reaction': [[170]], 'go': [-1], 'ppi': -1, 'lba': -1}\n",
      "5FAR-B {'uniprots': [], ',ec': [-1], 'reaction': [[170]], 'go': [-1], 'ppi': -1, 'lba': -1}\n",
      "5FAR-F {'uniprots': [], ',ec': [-1], 'reaction': [[170]], 'go': [-1], 'ppi': -1, 'lba': -1}\n",
      "5OBL-A {'uniprots': [], ',ec': [-1], 'reaction': [[118]], 'go': [-1], 'ppi': -1, 'lba': -1}\n",
      "5OBL-B {'uniprots': [], ',ec': [-1], 'reaction': [[118]], 'go': [-1], 'ppi': -1, 'lba': -1}\n",
      "4RZU-A {'uniprots': [], ',ec': [-1], 'reaction': [[173]], 'go': [-1], 'ppi': -1, 'lba': -1}\n",
      "4DC3-B {'uniprots': [], ',ec': [-1], 'reaction': [[295]], 'go': [-1], 'ppi': -1, 'lba': -1}\n",
      "3UQ6-B {'uniprots': [], ',ec': [-1], 'reaction': [[295]], 'go': [-1], 'ppi': -1, 'lba': -1}\n",
      "3VAQ-A {'uniprots': [], ',ec': [-1], 'reaction': [[295]], 'go': [-1], 'ppi': -1, 'lba': -1}\n",
      "3UQ9-A {'uniprots': [], ',ec': [-1], 'reaction': [[295]], 'go': [-1], 'ppi': -1, 'lba': -1}\n",
      "4DC3-A {'uniprots': [], ',ec': [-1], 'reaction': [[295]], 'go': [-1], 'ppi': -1, 'lba': -1}\n",
      "3VAQ-B {'uniprots': [], ',ec': [-1], 'reaction': [[295]], 'go': [-1], 'ppi': -1, 'lba': -1}\n",
      "3UQ6-A {'uniprots': [], ',ec': [-1], 'reaction': [[295]], 'go': [-1], 'ppi': -1, 'lba': -1}\n",
      "3VAS-A {'uniprots': [], ',ec': [-1], 'reaction': [[295]], 'go': [-1], 'ppi': -1, 'lba': -1}\n",
      "3VAS-B {'uniprots': [], ',ec': [-1], 'reaction': [[295]], 'go': [-1], 'ppi': -1, 'lba': -1}\n",
      "3UQ9-B {'uniprots': [], ',ec': [-1], 'reaction': [[295]], 'go': [-1], 'ppi': -1, 'lba': -1}\n",
      "4OJY-B {'uniprots': [], ',ec': [-1], 'reaction': [[6]], 'go': [-1], 'ppi': -1, 'lba': -1}\n",
      "4OJY-C {'uniprots': [], ',ec': [-1], 'reaction': [[6]], 'go': [-1], 'ppi': -1, 'lba': -1}\n",
      "4OJY-A {'uniprots': [], ',ec': [-1], 'reaction': [[6]], 'go': [-1], 'ppi': -1, 'lba': -1}\n",
      "6GT1-C {'uniprots': [], ',ec': [-1], 'reaction': [[357]], 'go': [-1], 'ppi': -1, 'lba': -1}\n",
      "6GT1-A {'uniprots': [], ',ec': [-1], 'reaction': [[357]], 'go': [-1], 'ppi': -1, 'lba': -1}\n",
      "6GT1-D {'uniprots': [], ',ec': [-1], 'reaction': [[357]], 'go': [-1], 'ppi': -1, 'lba': -1}\n",
      "6GT1-B {'uniprots': [], ',ec': [-1], 'reaction': [[357]], 'go': [-1], 'ppi': -1, 'lba': -1}\n",
      "5ZWY-B {'uniprots': [], ',ec': [-1], 'reaction': [[74]], 'go': [-1], 'ppi': -1, 'lba': -1}\n",
      "5ZWY-A {'uniprots': [], ',ec': [-1], 'reaction': [[74]], 'go': [-1], 'ppi': -1, 'lba': -1}\n",
      "6EQN-D {'uniprots': [], ',ec': [-1], 'reaction': [[8]], 'go': [-1], 'ppi': -1, 'lba': -1}\n",
      "4MJ3-C {'uniprots': [], ',ec': [-1], 'reaction': [[135]], 'go': [-1], 'ppi': -1, 'lba': -1}\n",
      "4MJ3-D {'uniprots': [], ',ec': [-1], 'reaction': [[135]], 'go': [-1], 'ppi': -1, 'lba': -1}\n",
      "4MJ3-B {'uniprots': [], ',ec': [-1], 'reaction': [[135]], 'go': [-1], 'ppi': -1, 'lba': -1}\n",
      "4MJ3-A {'uniprots': [], ',ec': [-1], 'reaction': [[135]], 'go': [-1], 'ppi': -1, 'lba': -1}\n",
      "3OHM-B {'uniprots': [], ',ec': [-1], 'reaction': [[207]], 'go': [-1], 'ppi': -1, 'lba': -1}\n",
      "4FXG-H {'uniprots': [], ',ec': [-1], 'reaction': [[77]], 'go': [-1], 'ppi': -1, 'lba': -1}\n",
      "4FXG-J {'uniprots': [], ',ec': [-1], 'reaction': [[77]], 'go': [-1], 'ppi': -1, 'lba': -1}\n",
      "6N36-A {'uniprots': [], ',ec': [-1], 'reaction': [[23]], 'go': [-1], 'ppi': -1, 'lba': -1}\n",
      "6ADQ-R {'uniprots': [], ',ec': [-1], 'reaction': [[201]], 'go': [-1], 'ppi': -1, 'lba': -1}\n",
      "6ADQ-F {'uniprots': [], ',ec': [-1], 'reaction': [[201]], 'go': [-1], 'ppi': -1, 'lba': -1}\n",
      "5XWQ-A {'uniprots': [], ',ec': [-1], 'reaction': [[244]], 'go': [-1], 'ppi': -1, 'lba': -1}\n",
      "6FMG-B {'uniprots': [], ',ec': [-1], 'reaction': [[375]], 'go': [-1], 'ppi': -1, 'lba': -1}\n",
      "6FMG-D {'uniprots': [], ',ec': [-1], 'reaction': [[375]], 'go': [-1], 'ppi': -1, 'lba': -1}\n",
      "6FMG-A {'uniprots': [], ',ec': [-1], 'reaction': [[375]], 'go': [-1], 'ppi': -1, 'lba': -1}\n",
      "6FMG-C {'uniprots': [], ',ec': [-1], 'reaction': [[375]], 'go': [-1], 'ppi': -1, 'lba': -1}\n",
      "4D5A-A {'uniprots': [], ',ec': [-1], 'reaction': [[205]], 'go': [-1], 'ppi': -1, 'lba': -1}\n",
      "4D59-A {'uniprots': [], ',ec': [-1], 'reaction': [[205]], 'go': [-1], 'ppi': -1, 'lba': -1}\n",
      "4D5A-B {'uniprots': [], ',ec': [-1], 'reaction': [[205]], 'go': [-1], 'ppi': -1, 'lba': -1}\n",
      "4D59-B {'uniprots': [], ',ec': [-1], 'reaction': [[205]], 'go': [-1], 'ppi': -1, 'lba': -1}\n",
      "4FXG-G {'uniprots': [], ',ec': [-1], 'reaction': [[77]], 'go': [-1], 'ppi': -1, 'lba': -1}\n",
      "4FXG-I {'uniprots': [], ',ec': [-1], 'reaction': [[77]], 'go': [-1], 'ppi': -1, 'lba': -1}\n",
      "3EEG-B {'uniprots': [], ',ec': [-1], 'reaction': [[316]], 'go': [-1], 'ppi': -1, 'lba': -1}\n",
      "3EEG-A {'uniprots': [], ',ec': [-1], 'reaction': [[316]], 'go': [-1], 'ppi': -1, 'lba': -1}\n",
      "4CI7-A {'uniprots': [], ',ec': [-1], 'reaction': [[205]], 'go': [-1], 'ppi': -1, 'lba': -1}\n",
      "4CI7-B {'uniprots': [], ',ec': [-1], 'reaction': [[205]], 'go': [-1], 'ppi': -1, 'lba': -1}\n",
      "6A9N-B {'uniprots': [], ',ec': [-1], 'reaction': [[212]], 'go': [-1], 'ppi': -1, 'lba': -1}\n",
      "6A9N-A {'uniprots': [], ',ec': [-1], 'reaction': [[212]], 'go': [-1], 'ppi': -1, 'lba': -1}\n",
      "4Z9C-A {'uniprots': [], ',ec': [-1], 'reaction': [[332]], 'go': [-1], 'ppi': -1, 'lba': -1}\n",
      "5IVL-B {'uniprots': [], ',ec': [-1], 'reaction': [[353]], 'go': [-1], 'ppi': -1, 'lba': -1}\n",
      "5IVL-A {'uniprots': [], ',ec': [-1], 'reaction': [[353]], 'go': [-1], 'ppi': -1, 'lba': -1}\n",
      "2I6L-B {'uniprots': [], ',ec': [-1], 'reaction': [[255]], 'go': [-1], 'ppi': -1, 'lba': -1}\n",
      "2I6L-A {'uniprots': [], ',ec': [-1], 'reaction': [[255]], 'go': [-1], 'ppi': -1, 'lba': -1}\n",
      "2LRN-A {'uniprots': [], ',ec': [-1], 'reaction': [[369]], 'go': [-1], 'ppi': -1, 'lba': -1}\n",
      "3QLD-A {'uniprots': [], ',ec': [-1], 'reaction': [[307]], 'go': [-1], 'ppi': -1, 'lba': -1}\n",
      "3QLD-B {'uniprots': [], ',ec': [-1], 'reaction': [[307]], 'go': [-1], 'ppi': -1, 'lba': -1}\n",
      "4P6V-A {'uniprots': [], ',ec': [-1], 'reaction': [[57]], 'go': [-1], 'ppi': -1, 'lba': -1}\n",
      "4P6V-D {'uniprots': [], ',ec': [-1], 'reaction': [[57]], 'go': [-1], 'ppi': -1, 'lba': -1}\n",
      "4P6V-C {'uniprots': [], ',ec': [-1], 'reaction': [[57]], 'go': [-1], 'ppi': -1, 'lba': -1}\n",
      "4P6V-B {'uniprots': [], ',ec': [-1], 'reaction': [[57]], 'go': [-1], 'ppi': -1, 'lba': -1}\n",
      "4P6V-E {'uniprots': [], ',ec': [-1], 'reaction': [[57]], 'go': [-1], 'ppi': -1, 'lba': -1}\n",
      "5IHS-A {'uniprots': [], ',ec': [-1], 'reaction': [[14]], 'go': [-1], 'ppi': -1, 'lba': -1}\n",
      "5U25-A {'uniprots': [], ',ec': [-1], 'reaction': [[283]], 'go': [-1], 'ppi': -1, 'lba': -1}\n",
      "4P52-A {'uniprots': [], ',ec': [-1], 'reaction': [[56]], 'go': [-1], 'ppi': -1, 'lba': -1}\n",
      "4P6V-F {'uniprots': [], ',ec': [-1], 'reaction': [[57]], 'go': [-1], 'ppi': -1, 'lba': -1}\n",
      "3FFR-A {'uniprots': [], ',ec': [-1], 'reaction': [[104]], 'go': [-1], 'ppi': -1, 'lba': -1}\n",
      "3R8E-A {'uniprots': [], ',ec': [-1], 'reaction': [[15]], 'go': [-1], 'ppi': -1, 'lba': -1}\n",
      "5X8O-A {'uniprots': [], ',ec': [-1], 'reaction': [[235]], 'go': [-1], 'ppi': -1, 'lba': -1}\n",
      "6PZ2-A {'uniprots': [], ',ec': [-1], 'reaction': [[108]], 'go': [-1], 'ppi': -1, 'lba': -1}\n"
     ]
    },
    {
     "name": "stderr",
     "output_type": "stream",
     "text": [
      "100%|██████████| 37400/37400 [00:00<00:00, 169213.10it/s]\n"
     ]
    }
   ],
   "source": [
    "for key, value in tqdm(protfun_dic.items()):\n",
    "    pdb_chain = key\n",
    "    chain_id = key.split('-')[-1]\n",
    "    try:\n",
    "        if pdb_chain in pdb_chain_uniprots.keys():\n",
    "            pdb_chain_uniprots[pdb_chain][chain_id] = value[\"uniprots\"][0]\n",
    "        else:\n",
    "            pdb_chain_uniprots[pdb_chain] = {}\n",
    "            pdb_chain_uniprots[pdb_chain][chain_id] = value[\"uniprots\"][0]\n",
    "    except:\n",
    "        print(key,value)\n",
    "        "
   ]
  },
  {
   "cell_type": "code",
   "execution_count": 12,
   "metadata": {},
   "outputs": [
    {
     "data": {
      "text/plain": [
       "{'V': 'Q43832'}"
      ]
     },
     "execution_count": 12,
     "metadata": {},
     "output_type": "execute_result"
    }
   ],
   "source": [
    "pdb_chain_uniprots['1IR1-V']"
   ]
  },
  {
   "cell_type": "code",
   "execution_count": 13,
   "metadata": {},
   "outputs": [],
   "source": [
    "with open('../output_info/uniprot_dict_all_origin.json') as f:\n",
    "    uniprots_all = json.load(f)"
   ]
  },
  {
   "cell_type": "code",
   "execution_count": 14,
   "metadata": {},
   "outputs": [],
   "source": [
    "with open('../datasets/MultiTaskNew/test.txt') as f:\n",
    "    test_list  = f.readlines()\n",
    "with open('../datasets/MultiTaskNew/val.txt') as f:\n",
    "    val_list  = f.readlines()\n",
    "with open('../datasets/MultiTaskNew/train.txt') as f:\n",
    "    train_list  = f.readlines()\n",
    "with open('../datasets/MultiTaskNew/train_all.txt') as f:\n",
    "    train_all_list  = f.readlines()"
   ]
  },
  {
   "cell_type": "code",
   "execution_count": 15,
   "metadata": {},
   "outputs": [],
   "source": [
    "all_list = test_list + val_list + train_list + train_all_list\n",
    "for i in all_list:\n",
    "    i = i[:-1]\n",
    "    if i not in uniprots_all.keys():\n",
    "        uniprots_all[i] = pdb_chain_uniprots[i]"
   ]
  },
  {
   "cell_type": "code",
   "execution_count": 16,
   "metadata": {},
   "outputs": [],
   "source": [
    "with open('../output_info/uniprot_dict_all_reaction.json', 'w') as f:\n",
    "    json.dump(uniprots_all, f)"
   ]
  },
  {
   "cell_type": "code",
   "execution_count": null,
   "metadata": {},
   "outputs": [],
   "source": [
    "test_go = '''155C-A\tGO:0009055,GO:0046906,GO:0020037\tGO:0006091,GO:0022900\t\n",
    "'''"
   ]
  },
  {
   "cell_type": "code",
   "execution_count": null,
   "metadata": {},
   "outputs": [],
   "source": [
    "# test_go = test_go.split('\\t')\n",
    "test_go"
   ]
  },
  {
   "cell_type": "code",
   "execution_count": null,
   "metadata": {},
   "outputs": [],
   "source": [
    "test_go[3].find('48208')"
   ]
  },
  {
   "cell_type": "code",
   "execution_count": null,
   "metadata": {},
   "outputs": [],
   "source": [
    "nr_lines = None\n",
    "with open('../data/nrPDB-GO_annot.tsv') as f:\n",
    "    nr_lines = f.readlines()"
   ]
  },
  {
   "cell_type": "code",
   "execution_count": null,
   "metadata": {},
   "outputs": [],
   "source": [
    "go_term_dic = {'molecular_function': [], 'biological_process': [], 'cellular_component': []}\n",
    "flag = 0\n",
    "for idx, line in enumerate(nr_lines):\n",
    "    if line.find('### GO-terms') == 0:\n",
    "        gos = nr_lines[idx + 1].split('\\t')\n",
    "        gos = [go_id.strip() for go_id in gos]\n",
    "        if flag == 0:\n",
    "            go_term_dic['molecular_function'] = gos\n",
    "        elif flag == 1:\n",
    "            go_term_dic['biological_process'] = gos\n",
    "        elif flag == 2:\n",
    "            go_term_dic['cellular_component'] = gos\n",
    "        flag += 1"
   ]
  },
  {
   "cell_type": "code",
   "execution_count": null,
   "metadata": {},
   "outputs": [],
   "source": [
    "go_terms = {'molecular_function': [], 'biological_process': [], 'cellular_component': []}\n",
    "for i in range(13, len(nr_lines)):\n",
    "    GO_TERM = nr_lines[i][:-1].split('\\t')\n",
    "    if GO_TERM[1]!= '':\n",
    "        go_terms['molecular_function'].extend(GO_TERM[1].split(','))\n",
    "    if GO_TERM[2]!= '':\n",
    "        go_terms['biological_process'].extend(GO_TERM[2].split(','))\n",
    "    if GO_TERM[3]!= '':\n",
    "        go_terms['cellular_component'].extend(GO_TERM[3].split(','))"
   ]
  },
  {
   "cell_type": "code",
   "execution_count": null,
   "metadata": {},
   "outputs": [],
   "source": [
    "go_terms['molecular_function'] = list(set(go_terms['molecular_function']))\n",
    "go_terms['biological_process'] = list(set(go_terms['biological_process']))\n",
    "go_terms['cellular_component'] = list(set(go_terms['cellular_component']))"
   ]
  },
  {
   "cell_type": "code",
   "execution_count": null,
   "metadata": {},
   "outputs": [],
   "source": [
    "if go_term_dic['cellular_component'].sort() == go_terms['cellular_component'].sort():\n",
    "    print('true')"
   ]
  }
 ],
 "metadata": {
  "kernelspec": {
   "display_name": "reptile",
   "language": "python",
   "name": "python3"
  },
  "language_info": {
   "codemirror_mode": {
    "name": "ipython",
    "version": 3
   },
   "file_extension": ".py",
   "mimetype": "text/x-python",
   "name": "python",
   "nbconvert_exporter": "python",
   "pygments_lexer": "ipython3",
   "version": "3.9.12"
  },
  "orig_nbformat": 4
 },
 "nbformat": 4,
 "nbformat_minor": 2
}
