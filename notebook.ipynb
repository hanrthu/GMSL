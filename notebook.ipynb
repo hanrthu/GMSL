{
 "cells": [
  {
   "cell_type": "code",
   "execution_count": null,
   "metadata": {},
   "outputs": [],
   "source": [
    "import torch\n",
    "a = torch.rand([4,73])\n",
    "b = torch.rand([4,33,20,73,73])\n",
    "print(a)\n",
    "torch.ne()"
   ]
  }
 ],
 "metadata": {
  "kernelspec": {
   "display_name": "gmsl_new",
   "language": "python",
   "name": "python3"
  },
  "language_info": {
   "name": "python",
   "version": "3.11.6"
  }
 },
 "nbformat": 4,
 "nbformat_minor": 2
}
